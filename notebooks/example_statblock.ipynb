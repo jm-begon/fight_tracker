{
 "cells": [
  {
   "cell_type": "code",
   "execution_count": 1,
   "metadata": {},
   "outputs": [
    {
     "name": "stdout",
     "output_type": "stream",
     "text": [
      "Hello! I will be the narrator for this encounter.\n"
     ]
    }
   ],
   "source": [
    "from fight_tracker import (\n",
    "    Game,\n",
    "    Creature,\n",
    "    StatBlock,\n",
    "    PlayerCharacter as PC,\n",
    "    override_ip_repr\n",
    ")\n",
    "\n",
    "override_ip_repr()\n",
    "game = Game.init()"
   ]
  },
  {
   "cell_type": "code",
   "execution_count": 8,
   "metadata": {},
   "outputs": [],
   "source": [
    "from fight_tracker.arithmetic import DescriptiveInt\n",
    "from fight_tracker.dice import Dice\n",
    "from fight_tracker.mechanics.ability import Ability\n",
    "from fight_tracker.mechanics.misc import Alignment, Size\n",
    "from fight_tracker.mechanics.speed import Speed\n",
    "from fight_tracker.statblock import Action\n",
    "\n",
    "def create_kobold(nickname: str):\n",
    "    return Creature(\n",
    "        nickname,\n",
    "        StatBlock(\n",
    "            name=\"Kobold Tracker\",\n",
    "            proficency_bonus=2,\n",
    "            size=Size.SMALL,\n",
    "            category=\"humanoid (kobold)\",\n",
    "            alignment=Alignment.LE,\n",
    "            armor_class=DescriptiveInt(13, \"natural armor\"),\n",
    "            max_hit_points=3 * Dice(6, \"expectation\") + 3,\n",
    "            speed=Speed(30),\n",
    "            strength=7,\n",
    "            dexterity=15,\n",
    "            constitution=9,\n",
    "            intelligence=8,\n",
    "            wisdom=7,\n",
    "            charisma=8,\n",
    "            saving_throw_proficiencies=(Ability.WIS,),\n",
    "            skill_proficiencies=None,  # TODO\n",
    "            passive_perception=12,\n",
    "            senses=(\"Darkvision 60ft\",),\n",
    "            languages=(\"Common\", \"Draconic\"),\n",
    "            challenge_rating=\"1/2\",\n",
    "            abilities={\n",
    "                \"Sunlight Sensitivity\": \"While in sunlight, the kobold tracker has disadvantage on attack rolls, as well as on Wisdom (Perception) checks that rely on sight.\",\n",
    "                \"Pack Tactics\": \"The kobold tracker has advantage on an attack roll against a creature if at least one of the kobold's allies is within 5 feet of the creature and the ally isn't incapacitated.\",\n",
    "                \"Keen Smell\": \"The kobold tracker has advantage on Wisdom (Perception) checks that rely on smell.\",\n",
    "                \"Infravision\": \"The kobold tracker can see in both magical and non-magical darkness as if it were bright light up to a distance of 60 feet.\",\n",
    "            },\n",
    "            actions=(\n",
    "                Action(\n",
    "                    \"Shortsword\",\n",
    "                    \"+4 to hit, reach 5 ft., one target. Hit: 5 (1d6 + 2) piercing damage.\",\n",
    "                    \"Melee Weapon Attack\",\n",
    "                ),\n",
    "                Action(\n",
    "                    \"Sling\",\n",
    "                    \"+4 to hit, range 30/120 ft., one target. Hit: 4 (1d4 + 2) bludgeoning damage.\",\n",
    "                    \"Ranged Weapon Attack\",\n",
    "                ),\n",
    "                Action(\n",
    "                    \"Track\",\n",
    "                    \"1/Day. The kobold tracker can use its action to pinpoint the location of a specific creature it is familiar with, as long as the creature is within 1 mile and has left a scent trail within the last 24 hours.\",\n",
    "                ),\n",
    "            ),\n",
    "        )\n",
    "    )"
   ]
  },
  {
   "cell_type": "code",
   "execution_count": 4,
   "metadata": {},
   "outputs": [],
   "source": [
    "odric = PC.quick(\"P1\", \"Odric\", 16, 20, dexterity=12, charisma=15)\n",
    "maudal = PC.quick(\"P2\", \"Maudal\", 12, 15)\n",
    "alea = PC.quick(\"P3\", \"Alea\", 14, 19, hp=16, constitution=14)"
   ]
  },
  {
   "cell_type": "code",
   "execution_count": 9,
   "metadata": {},
   "outputs": [],
   "source": [
    "kb1 = create_kobold(\"kb1\")\n",
    "kb2 = create_kobold(\"kb2\")\n",
    "kb3 = create_kobold(\"kb3\")"
   ]
  },
  {
   "cell_type": "code",
   "execution_count": 10,
   "metadata": {},
   "outputs": [
    {
     "name": "stdout",
     "output_type": "stream",
     "text": [
      "*Odric* roll a 16 (d20 + 1) as initiative\n",
      "*Maudal* roll a 12 as initiative\n",
      "*Alea* roll a 16 as initiative\n",
      "*Kobold Tracker* roll a 19 (d20 + 2) as initiative\n",
      "*Kobold Tracker* roll a 11 (d20 + 2) as initiative\n",
      "*Kobold Tracker* roll a 14 (d20 + 2) as initiative\n",
      "battle begins!\n",
      "start of round 1\n",
      "turn of  *Kobold Tracker*\n",
      "    next in line is  *Odric*\n",
      "/-------+-------+------------------------+-----------------+----+-----+-----+-----+-----+-----+-----+---------------+------------+\n",
      "| Curr. | Init. | Participant            | HP              | AC | STR | DEX | CON | INT | WIS | CHA | Concentration | Conditions |\n",
      "+-------+-------+------------------------+-----------------+----+-----+-----+-----+-----+-----+-----+---------------+------------+\n",
      "| (x)   | 19    | *Kobold Tracker* (kb1) | 12/12 (100.0 %) | 13 | -2  | +2  | -1  | -1  | +0  | -1  | ( )           |            |\n",
      "| ( )   | 16    | *Odric* (P1)           | 20/20 (100.0 %) | 16 | -   | +1  | -   | -   | -   | +2  | ( )           |            |\n",
      "| ( )   | 16    | *Alea* (P3)            | 16/19 (84.2 %)  | 14 | -   | -   | +2  | -   | -   | -   | ( )           |            |\n",
      "| ( )   | 14    | *Kobold Tracker* (kb3) | 12/12 (100.0 %) | 13 | -2  | +2  | -1  | -1  | +0  | -1  | ( )           |            |\n",
      "| ( )   | 12    | *Maudal* (P2)          | 15/15 (100.0 %) | 12 | -   | -   | -   | -   | -   | -   | ( )           |            |\n",
      "| ( )   | 11    | *Kobold Tracker* (kb2) | 12/12 (100.0 %) | 13 | -2  | +2  | -1  | -1  | +0  | -1  | ( )           |            |\n",
      "+-------+-------+------------------------+-----------------+----+-----+-----+-----+-----+-----+-----+---------------+------------/\n"
     ]
    },
    {
     "data": {
      "text/plain": []
     },
     "execution_count": 10,
     "metadata": {},
     "output_type": "execute_result"
    }
   ],
   "source": [
    "E = (\n",
    "    game.create_encounter()  # Return an encounter builder\n",
    "    .add(odric)\n",
    "    .add(maudal, 12)\n",
    "    .add(alea, 16)\n",
    "    .add(kb1)\n",
    "    .add(kb2)\n",
    "    .add(kb3)\n",
    "    .start()  # Return encounter\n",
    ")\n",
    "E  # Render"
   ]
  },
  {
   "cell_type": "code",
   "execution_count": 11,
   "metadata": {},
   "outputs": [
    {
     "name": "stdout",
     "output_type": "stream",
     "text": [
      "/------------------------------------------------------------------------------+\n",
      "| KOBOLD TRACKER                                                               |\n",
      "| Small humanoid (kobold), lawful evil                                         |\n",
      "| ---------------------------------------------------------------------------- |\n",
      "| - \u001b[1mArmor Class\u001b[0m: 13 (natural armor)                                            |\n",
      "| - \u001b[1mHit points\u001b[0m: 12 (3d6 + 3)                                                   |\n",
      "| - \u001b[1mSpeed\u001b[0m: 6.0 sq                                                              |\n",
      "| /----------+-----+-----+-----+-----+-----+-----+                             |\n",
      "| |          | STR | DEX | CON | INT | WIS | CHA |                             |\n",
      "| +----------+-----+-----+-----+-----+-----+-----+                             |\n",
      "| | Modifier | -2  | +2  | -1  | -1  | -2  | -1  |                             |\n",
      "| | Save     | -2  | +2  | -1  | -1  | +0  | -1  |                             |\n",
      "| +----------+-----+-----+-----+-----+-----+-----/                             |\n",
      "| - \u001b[1mProficiency bonus\u001b[0m: 2                                                       |\n",
      "| - \u001b[1mSense\u001b[0m: Darkvision 60ft                                                     |\n",
      "| - \u001b[1mLanguages\u001b[0m: Common, Draconic                                                |\n",
      "| - \u001b[1mChallenge rating\u001b[0m: 1/2                                                      |\n",
      "| ---------------------------------------------------------------------------- |\n",
      "| - \u001b[1mSunlight Sensitivity\u001b[0m: While in sunlight, the kobold tracker has            |\n",
      "| disadvantage on attack rolls, as well as on Wisdom (Perception) checks that  |\n",
      "| rely on sight.                                                               |\n",
      "| - \u001b[1mPack Tactics\u001b[0m: The kobold tracker has advantage on an attack roll           |\n",
      "| against a creature if at least one of the kobold's allies is within 5 feet   |\n",
      "| of the creature and the ally isn't incapacitated.                            |\n",
      "| - \u001b[1mKeen Smell\u001b[0m: The kobold tracker has advantage on Wisdom                     |\n",
      "| (Perception) checks that rely on smell.                                      |\n",
      "| - \u001b[1mInfravision\u001b[0m: The kobold tracker can see in both magical and                |\n",
      "| non-magical darkness as if it were bright light up to a distance of 60 feet. |\n",
      "| ----------------------------------------------------------------------Action |\n",
      "| - \u001b[1mShortsword\u001b[0m: Melee Weapon Attack: +4 to hit, reach 5 ft., one               |\n",
      "| target. Hit: 5 (1d6 + 2) piercing damage.                                    |\n",
      "| - \u001b[1mSling\u001b[0m: Ranged Weapon Attack: +4 to hit, range 30/120 ft., one              |\n",
      "| target. Hit: 4 (1d4 + 2) bludgeoning damage.                                 |\n",
      "| - \u001b[1mTrack\u001b[0m: 1/Day. The kobold tracker can use its action to pinpoint            |\n",
      "| the location of a specific creature it is familiar with, as long as the      |\n",
      "| creature is within 1 mile and has left a scent trail within the last 24      |\n",
      "| hours.                                                                       |\n",
      "+------------------------------------------------------------------------------/\n"
     ]
    },
    {
     "data": {
      "text/plain": []
     },
     "execution_count": 11,
     "metadata": {},
     "output_type": "execute_result"
    }
   ],
   "source": [
    "kb1.statblock"
   ]
  },
  {
   "cell_type": "code",
   "execution_count": null,
   "metadata": {},
   "outputs": [],
   "source": []
  }
 ],
 "metadata": {
  "kernelspec": {
   "display_name": ".venv",
   "language": "python",
   "name": "python3"
  },
  "language_info": {
   "codemirror_mode": {
    "name": "ipython",
    "version": 3
   },
   "file_extension": ".py",
   "mimetype": "text/x-python",
   "name": "python",
   "nbconvert_exporter": "python",
   "pygments_lexer": "ipython3",
   "version": "3.12.0"
  }
 },
 "nbformat": 4,
 "nbformat_minor": 2
}
