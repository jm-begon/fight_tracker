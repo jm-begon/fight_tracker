{
 "cells": [
  {
   "cell_type": "code",
   "execution_count": 1,
   "metadata": {},
   "outputs": [
    {
     "name": "stdout",
     "output_type": "stream",
     "text": [
      "Hello! I will be the narrator for this encounter.\n"
     ]
    }
   ],
   "source": [
    "from fight_tracker import (\n",
    "    Game,\n",
    "    Creature,\n",
    "    StatBlock,\n",
    "    PlayerCharacter as PC,\n",
    "    override_ip_repr\n",
    ")\n",
    "\n",
    "override_ip_repr()\n",
    "game = Game.init()"
   ]
  },
  {
   "cell_type": "code",
   "execution_count": 2,
   "metadata": {},
   "outputs": [],
   "source": [
    "from fight_tracker.arithmetic import DescriptiveInt\n",
    "from fight_tracker.dice import Dice\n",
    "from fight_tracker.mechanics.ability import Ability\n",
    "from fight_tracker.mechanics.misc import Alignment, Size\n",
    "from fight_tracker.mechanics.speed import Speed\n",
    "from fight_tracker.statblock import Action\n",
    "\n",
    "def create_kobold(nickname: str | None = None) -> StatBlock:\n",
    "    return StatBlock(\n",
    "        name=\"Kobold Tracker\",\n",
    "        nickname=nickname,\n",
    "        proficency_bonus=2,\n",
    "        level=3,\n",
    "        size=Size.SMALL,\n",
    "        category=\"humanoid (kobold)\",\n",
    "        alignment=Alignment.LE,\n",
    "        armor_class=DescriptiveInt(13, \"natural armor\"),\n",
    "        max_hit_points=3 * Dice(6, \"expectation\") + 3,\n",
    "        speed=Speed(30),\n",
    "        strength=7,\n",
    "        dexterity=15,\n",
    "        constitution=9,\n",
    "        intelligence=8,\n",
    "        wisdom=7,\n",
    "        charisma=8,\n",
    "        saving_throw_proficiencies=(Ability.WIS,),\n",
    "        skill_proficiencies=None,  # TODO\n",
    "        passive_perception=12,\n",
    "        senses=(\"Darkvision 60ft\",),\n",
    "        languages=(\"Common\", \"Draconic\"),\n",
    "        challenge_rating=\"1/2\",\n",
    "        abilities={\n",
    "            \"Sunlight Sensitivity\": \"While in sunlight, the kobold tracker has disadvantage on attack rolls, as well as on Wisdom (Perception) checks that rely on sight.\",\n",
    "            \"Pack Tactics\": \"The kobold tracker has advantage on an attack roll against a creature if at least one of the kobold's allies is within 5 feet of the creature and the ally isn't incapacitated.\",\n",
    "            \"Keen Smell\": \"The kobold tracker has advantage on Wisdom (Perception) checks that rely on smell.\",\n",
    "            \"Infravision\": \"The kobold tracker can see in both magical and non-magical darkness as if it were bright light up to a distance of 60 feet.\",\n",
    "        },\n",
    "        actions=(\n",
    "            Action(\n",
    "                \"Shortsword\",\n",
    "                \"+4 to hit, reach 5 ft., one target. Hit: 5 (1d6 + 2) piercing damage.\",\n",
    "                \"Melee Weapon Attack\",\n",
    "            ),\n",
    "            Action(\n",
    "                \"Sling\",\n",
    "                \"+4 to hit, range 30/120 ft., one target. Hit: 4 (1d4 + 2) bludgeoning damage.\",\n",
    "                \"Ranged Weapon Attack\",\n",
    "            ),\n",
    "            Action(\n",
    "                \"Track\",\n",
    "                \"1/Day. The kobold tracker can use its action to pinpoint the location of a specific creature it is familiar with, as long as the creature is within 1 mile and has left a scent trail within the last 24 hours.\",\n",
    "            ),\n",
    "        ),\n",
    "    )"
   ]
  },
  {
   "cell_type": "code",
   "execution_count": 3,
   "metadata": {},
   "outputs": [],
   "source": [
    "odric = PC.from_statblock(\n",
    "    StatBlock(\n",
    "        name=\"Odric\",\n",
    "        armor_class=16,\n",
    "        max_hit_points=20,\n",
    "        dexterity=12,\n",
    "        charisma=14,\n",
    "    ),\n",
    "    player_name=\"P1\",\n",
    ")\n",
    "\n",
    "maudal = PC.from_statblock(\n",
    "    StatBlock(\n",
    "        name=\"Maudal\",\n",
    "        armor_class=12,\n",
    "        max_hit_points=15,\n",
    "    ),\n",
    "    player_name=\"P2\",\n",
    ")\n",
    "\n",
    "alea = PC.from_statblock(\n",
    "    StatBlock(\n",
    "        name=\"Alea\",\n",
    "        armor_class=16,\n",
    "        max_hit_points=19,\n",
    "    ),\n",
    "    player_name=\"P3\",\n",
    ")"
   ]
  },
  {
   "cell_type": "code",
   "execution_count": 4,
   "metadata": {},
   "outputs": [],
   "source": [
    "kb1 = Creature.from_statblock(create_kobold(\"kb1\"))\n",
    "kb2 = Creature.from_statblock(create_kobold(\"kb2\"))\n",
    "kb3 = Creature.from_statblock(create_kobold(\"kb3\"))"
   ]
  },
  {
   "cell_type": "code",
   "execution_count": 5,
   "metadata": {},
   "outputs": [
    {
     "name": "stdout",
     "output_type": "stream",
     "text": [
      "*Odric* roll a 4 (d20 + 0) as initiative\n",
      "*Maudal* roll a 12 as initiative\n",
      "*Alea* roll a 16 as initiative\n",
      "*kb1* roll a 7 (d20 + 0) as initiative\n",
      "*kb2* roll a 18 (d20 + 0) as initiative\n",
      "*kb3* roll a 19 (d20 + 0) as initiative\n",
      "battle begins!\n",
      "start of round 1\n",
      "turn of  *kb3*\n",
      "    next in line is  *kb2*\n",
      "/-------+-------+---------------+-----------------+----+-----+-----+-----+-----+-----+-----+---------------+------------+\n",
      "| Curr. | Init. | Participant   | HP              | AC | STR | DEX | CON | INT | WIS | CHA | Concentration | Conditions |\n",
      "+-------+-------+---------------+-----------------+----+-----+-----+-----+-----+-----+-----+---------------+------------+\n",
      "| (x)   | 19    | *kb3*         | 12/12 (100.0 %) | 13 | -   | -   | -   | -   | -   | -   | ( )           |            |\n",
      "| ( )   | 18    | *kb2*         | 12/12 (100.0 %) | 13 | -   | -   | -   | -   | -   | -   | ( )           |            |\n",
      "| ( )   | 16    | *Alea* (P3)   | 19/19 (100.0 %) | 16 | -   | -   | -   | -   | -   | -   | ( )           |            |\n",
      "| ( )   | 12    | *Maudal* (P2) | 15/15 (100.0 %) | 12 | -   | -   | -   | -   | -   | -   | ( )           |            |\n",
      "| ( )   | 7     | *kb1*         | 12/12 (100.0 %) | 13 | -   | -   | -   | -   | -   | -   | ( )           |            |\n",
      "| ( )   | 4     | *Odric* (P1)  | 20/20 (100.0 %) | 16 | -   | -   | -   | -   | -   | -   | ( )           |            |\n",
      "+-------+-------+---------------+-----------------+----+-----+-----+-----+-----+-----+-----+---------------+------------/\n"
     ]
    },
    {
     "data": {
      "text/plain": []
     },
     "execution_count": 5,
     "metadata": {},
     "output_type": "execute_result"
    }
   ],
   "source": [
    "E = (\n",
    "    game.create_encounter()  # Return an encounter builder\n",
    "    .add(odric)\n",
    "    .add(maudal, 12)\n",
    "    .add(alea, 16)\n",
    "    .add(kb1)\n",
    "    .add(kb2)\n",
    "    .add(kb3)\n",
    "    .start()  # Return encounter\n",
    ")\n",
    "E  # Render"
   ]
  },
  {
   "cell_type": "code",
   "execution_count": 6,
   "metadata": {},
   "outputs": [
    {
     "name": "stdout",
     "output_type": "stream",
     "text": [
      "/------------------------------------------------------------------------------+\n",
      "| KOBOLD TRACKER                                                               |\n",
      "| Small humanoid (kobold), lawful evil                                         |\n",
      "| ---------------------------------------------------------------------------- |\n",
      "| - \u001b[1mArmor Class\u001b[0m: 13 (natural armor)                                            |\n",
      "| - \u001b[1mHit points\u001b[0m: 12 (3d6 + 3)                                                   |\n",
      "| - \u001b[1mSpeed\u001b[0m: 6.0 sq                                                              |\n",
      "| /----------+-----+-----+-----+-----+-----+-----+                             |\n",
      "| |          | STR | DEX | CON | INT | WIS | CHA |                             |\n",
      "| +----------+-----+-----+-----+-----+-----+-----+                             |\n",
      "| | Modifier | -2  | +2  | -1  | -1  | -2  | -1  |                             |\n",
      "| | Save     | -2  | +2  | -1  | -1  | +0  | -1  |                             |\n",
      "| +----------+-----+-----+-----+-----+-----+-----/                             |\n",
      "| - \u001b[1mProficiency bonus\u001b[0m: 2                                                       |\n",
      "| - \u001b[1mSense\u001b[0m: Darkvision 60ft                                                     |\n",
      "| - \u001b[1mLanguages\u001b[0m: Common, Draconic                                                |\n",
      "| - \u001b[1mChallenge rating\u001b[0m: 1/2                                                      |\n",
      "| ---------------------------------------------------------------------------- |\n",
      "| - \u001b[1mSunlight Sensitivity\u001b[0m: While in sunlight, the kobold tracker has            |\n",
      "| disadvantage on attack rolls, as well as on Wisdom (Perception) checks that  |\n",
      "| rely on sight.                                                               |\n",
      "| - \u001b[1mPack Tactics\u001b[0m: The kobold tracker has advantage on an attack roll           |\n",
      "| against a creature if at least one of the kobold's allies is within 5 feet   |\n",
      "| of the creature and the ally isn't incapacitated.                            |\n",
      "| - \u001b[1mKeen Smell\u001b[0m: The kobold tracker has advantage on Wisdom                     |\n",
      "| (Perception) checks that rely on smell.                                      |\n",
      "| - \u001b[1mInfravision\u001b[0m: The kobold tracker can see in both magical and                |\n",
      "| non-magical darkness as if it were bright light up to a distance of 60 feet. |\n",
      "| ----------------------------------------------------------------------Action |\n",
      "| - \u001b[1mShortsword\u001b[0m: Melee Weapon Attack: +4 to hit, reach 5 ft., one               |\n",
      "| target. Hit: 5 (1d6 + 2) piercing damage.                                    |\n",
      "| - \u001b[1mSling\u001b[0m: Ranged Weapon Attack: +4 to hit, range 30/120 ft., one              |\n",
      "| target. Hit: 4 (1d4 + 2) bludgeoning damage.                                 |\n",
      "| - \u001b[1mTrack\u001b[0m: 1/Day. The kobold tracker can use its action to pinpoint            |\n",
      "| the location of a specific creature it is familiar with, as long as the      |\n",
      "| creature is within 1 mile and has left a scent trail within the last 24      |\n",
      "| hours.                                                                       |\n",
      "+------------------------------------------------------------------------------/\n"
     ]
    },
    {
     "data": {
      "text/plain": []
     },
     "execution_count": 6,
     "metadata": {},
     "output_type": "execute_result"
    }
   ],
   "source": [
    "create_kobold()"
   ]
  },
  {
   "cell_type": "code",
   "execution_count": null,
   "metadata": {},
   "outputs": [],
   "source": []
  }
 ],
 "metadata": {
  "kernelspec": {
   "display_name": ".venv",
   "language": "python",
   "name": "python3"
  },
  "language_info": {
   "codemirror_mode": {
    "name": "ipython",
    "version": 3
   },
   "file_extension": ".py",
   "mimetype": "text/x-python",
   "name": "python",
   "nbconvert_exporter": "python",
   "pygments_lexer": "ipython3",
   "version": "3.12.0"
  }
 },
 "nbformat": 4,
 "nbformat_minor": 2
}
