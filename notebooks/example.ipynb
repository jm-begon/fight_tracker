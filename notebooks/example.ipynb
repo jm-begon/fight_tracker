{
 "cells": [
  {
   "cell_type": "code",
   "execution_count": 75,
   "metadata": {},
   "outputs": [],
   "source": [
    "from fight_tracker import Damage, conditions, Encounter\n",
    "from fight_tracker.arithmetic import DescriptiveInt\n",
    "from fight_tracker import NPC, Creature, Game\n",
    "from fight_tracker import PlayerCharacter as PC\n"
   ]
  },
  {
   "cell_type": "code",
   "execution_count": 4,
   "metadata": {},
   "outputs": [
    {
     "name": "stdout",
     "output_type": "stream",
     "text": [
      "Hello! I will be the narrator for this encounter.\n"
     ]
    }
   ],
   "source": [
    "game, _reg = Game.init()\n",
    "E, R = game.encounter, game.renderer"
   ]
  },
  {
   "cell_type": "code",
   "execution_count": 5,
   "metadata": {},
   "outputs": [],
   "source": [
    "odric = (\n",
    "    PC(\"P1\", \"Odric\", 16, 20, 20)\n",
    "    .set_saving_throws(\n",
    "        CHA=2,\n",
    "    )\n",
    "    .set_ability_modifier(DEX=1)\n",
    ")\n",
    "maudal = PC(\"P2\", \"Maudal\", 12, 15)\n",
    "alea = PC(\"P3\", \"Alea\", 14, 16, 19).set_saving_throws(CON=1)"
   ]
  },
  {
   "cell_type": "code",
   "execution_count": 7,
   "metadata": {},
   "outputs": [],
   "source": [
    "gob1 = Creature(\"Goblin 1\", DescriptiveInt(13, \"leather armor\"), 10, 10)\n",
    "gob2 = Creature(\"Goblin 2\", 13, 10, 10)"
   ]
  },
  {
   "cell_type": "code",
   "execution_count": 8,
   "metadata": {},
   "outputs": [
    {
     "name": "stdout",
     "output_type": "stream",
     "text": [
      "*Odric* roll a 11 (d20 + 1) as initiative\n",
      "*Maudal* roll a 12 as initiative\n",
      "*Alea* roll a 16 as initiative\n",
      "*Goblin 1* roll a 11 as initiative\n",
      "*Goblin 2* roll a 15 as initiative\n"
     ]
    }
   ],
   "source": [
    "# init\n",
    "_reg(odric)\n",
    "_reg(maudal, 12)\n",
    "_reg(alea, 16)\n",
    "_reg(gob1, 11)\n",
    "_reg(gob2, 15)"
   ]
  },
  {
   "cell_type": "code",
   "execution_count": 9,
   "metadata": {},
   "outputs": [
    {
     "name": "stdout",
     "output_type": "stream",
     "text": [
      "battle begins!\n",
      "start of round 1\n",
      "turn of  *Alea*\n",
      "    next in line is  *Alea*\n",
      "/-------+-------+---------------+-----------------+----+-----+-----+-----+-----+-----+-----+---------------+------------+\n",
      "| Curr. | Init. | Participant   | HP              | AC | STR | DEX | CON | INT | WIS | CHA | Concentration | Conditions |\n",
      "+-------+-------+---------------+-----------------+----+-----+-----+-----+-----+-----+-----+---------------+------------+\n",
      "| (x)   | 16    | *Alea* (P3)   | 16/19 (84.2 %)  | 14 | -   | -   | +1  | -   | -   | -   | ( )           |            |\n",
      "| ( )   | 16    | *Alea* (P3)   | 16/19 (84.2 %)  | 14 | -   | -   | +1  | -   | -   | -   | ( )           |            |\n",
      "| ( )   | 15    | *Goblin 2*    | 10/10 (100.0 %) | 13 | -   | -   | -   | -   | -   | -   | ( )           |            |\n",
      "| ( )   | 12    | *Maudal* (P2) | 15/15 (100.0 %) | 12 | -   | -   | -   | -   | -   | -   | ( )           |            |\n",
      "| ( )   | 12    | *Maudal* (P2) | 15/15 (100.0 %) | 12 | -   | -   | -   | -   | -   | -   | ( )           |            |\n",
      "| ( )   | 11    | *Odric* (P1)  | 20/20 (100.0 %) | 16 | -   | -   | -   | -   | -   | +2  | ( )           |            |\n",
      "| ( )   | 11    | *Goblin 1*    | 10/10 (100.0 %) | 13 | -   | -   | -   | -   | -   | -   | ( )           |            |\n",
      "| ( )   | 5     | *Odric* (P1)  | 20/20 (100.0 %) | 16 | -   | -   | -   | -   | -   | +2  | ( )           |            |\n",
      "+-------+-------+---------------+-----------------+----+-----+-----+-----+-----+-----+-----+---------------+------------/\n",
      "*Alea* is concentrating on Dancing light\n",
      "*Goblin 1* takes 6 point(s) of damage\n",
      "    *Goblin 1* is in bad shape\n",
      "    *Goblin 1* is now at 4/10 (40.0 %) HP\n",
      "*Goblin 1* is *prone*\n",
      "turn of  *Alea*\n",
      "    next in line is  *Goblin 2*\n",
      "/-------+-------+---------------+-----------------+----+-----+-----+-----+-----+-----+-----+---------------+------------+\n",
      "| Curr. | Init. | Participant   | HP              | AC | STR | DEX | CON | INT | WIS | CHA | Concentration | Conditions |\n",
      "+-------+-------+---------------+-----------------+----+-----+-----+-----+-----+-----+-----+---------------+------------+\n",
      "| ( )   | 16    | *Alea* (P3)   | 16/19 (84.2 %)  | 14 | -   | -   | +1  | -   | -   | -   | (x)           |            |\n",
      "| (x)   | 16    | *Alea* (P3)   | 16/19 (84.2 %)  | 14 | -   | -   | +1  | -   | -   | -   | (x)           |            |\n",
      "| ( )   | 15    | *Goblin 2*    | 10/10 (100.0 %) | 13 | -   | -   | -   | -   | -   | -   | ( )           |            |\n",
      "| ( )   | 12    | *Maudal* (P2) | 15/15 (100.0 %) | 12 | -   | -   | -   | -   | -   | -   | ( )           |            |\n",
      "| ( )   | 12    | *Maudal* (P2) | 15/15 (100.0 %) | 12 | -   | -   | -   | -   | -   | -   | ( )           |            |\n",
      "| ( )   | 11    | *Odric* (P1)  | 20/20 (100.0 %) | 16 | -   | -   | -   | -   | -   | +2  | ( )           |            |\n",
      "| ( )   | 11    | *Goblin 1*    | 4/10 (40.0 %)   | 13 | -   | -   | -   | -   | -   | -   | ( )           | *prone*    |\n",
      "| ( )   | 5     | *Odric* (P1)  | 20/20 (100.0 %) | 16 | -   | -   | -   | -   | -   | +2  | ( )           |            |\n",
      "+-------+-------+---------------+-----------------+----+-----+-----+-----+-----+-----+-----+---------------+------------/\n",
      "*Alea* takes 20 point(s) of damage\n",
      "    *Alea* is *unconscious*\n",
      "    *Alea* is no longer concentrating\n",
      "    *Alea* is now at -4/19 (-21.1 %) HP\n",
      "*Alea* is no longer concentrating\n",
      "turn of  *Goblin 2*\n",
      "    next in line is  *Maudal*\n",
      "/-------+-------+---------------+-----------------+----+-----+-----+-----+-----+-----+-----+---------------+---------------+\n",
      "| Curr. | Init. | Participant   | HP              | AC | STR | DEX | CON | INT | WIS | CHA | Concentration | Conditions    |\n",
      "+-------+-------+---------------+-----------------+----+-----+-----+-----+-----+-----+-----+---------------+---------------+\n",
      "| ( )   | 16    | *Alea* (P3)   | -4/19 (-21.1 %) | 14 | -   | -   | +1  | -   | -   | -   | ( )           | *unconscious* |\n",
      "| ( )   | 16    | *Alea* (P3)   | -4/19 (-21.1 %) | 14 | -   | -   | +1  | -   | -   | -   | ( )           | *unconscious* |\n",
      "| (x)   | 15    | *Goblin 2*    | 10/10 (100.0 %) | 13 | -   | -   | -   | -   | -   | -   | ( )           |               |\n",
      "| ( )   | 12    | *Maudal* (P2) | 15/15 (100.0 %) | 12 | -   | -   | -   | -   | -   | -   | ( )           |               |\n",
      "| ( )   | 12    | *Maudal* (P2) | 15/15 (100.0 %) | 12 | -   | -   | -   | -   | -   | -   | ( )           |               |\n",
      "| ( )   | 11    | *Odric* (P1)  | 20/20 (100.0 %) | 16 | -   | -   | -   | -   | -   | +2  | ( )           |               |\n",
      "| ( )   | 11    | *Goblin 1*    | 4/10 (40.0 %)   | 13 | -   | -   | -   | -   | -   | -   | ( )           | *prone*       |\n",
      "| ( )   | 5     | *Odric* (P1)  | 20/20 (100.0 %) | 16 | -   | -   | -   | -   | -   | +2  | ( )           |               |\n",
      "+-------+-------+---------------+-----------------+----+-----+-----+-----+-----+-----+-----+---------------+---------------/\n",
      "*Goblin 1* takes 10 point(s) of damage\n",
      "    *Goblin 1* is *unconscious*\n",
      "    *Goblin 1* is now at -6/10 (-60.0 %) HP\n",
      "turn of  *Maudal*\n",
      "    next in line is  *Maudal*\n",
      "/-------+-------+---------------+-----------------+----+-----+-----+-----+-----+-----+-----+---------------+-----------------------+\n",
      "| Curr. | Init. | Participant   | HP              | AC | STR | DEX | CON | INT | WIS | CHA | Concentration | Conditions            |\n",
      "+-------+-------+---------------+-----------------+----+-----+-----+-----+-----+-----+-----+---------------+-----------------------+\n",
      "| ( )   | 16    | *Alea* (P3)   | -4/19 (-21.1 %) | 14 | -   | -   | +1  | -   | -   | -   | ( )           | *unconscious*         |\n",
      "| ( )   | 16    | *Alea* (P3)   | -4/19 (-21.1 %) | 14 | -   | -   | +1  | -   | -   | -   | ( )           | *unconscious*         |\n",
      "| ( )   | 15    | *Goblin 2*    | 10/10 (100.0 %) | 13 | -   | -   | -   | -   | -   | -   | ( )           |                       |\n",
      "| (x)   | 12    | *Maudal* (P2) | 15/15 (100.0 %) | 12 | -   | -   | -   | -   | -   | -   | ( )           |                       |\n",
      "| ( )   | 12    | *Maudal* (P2) | 15/15 (100.0 %) | 12 | -   | -   | -   | -   | -   | -   | ( )           |                       |\n",
      "| ( )   | 11    | *Odric* (P1)  | 20/20 (100.0 %) | 16 | -   | -   | -   | -   | -   | +2  | ( )           |                       |\n",
      "| ( )   | 11    | *Goblin 1*    | -6/10 (-60.0 %) | 13 | -   | -   | -   | -   | -   | -   | ( )           | *unconscious* *prone* |\n",
      "| ( )   | 5     | *Odric* (P1)  | 20/20 (100.0 %) | 16 | -   | -   | -   | -   | -   | +2  | ( )           |                       |\n",
      "+-------+-------+---------------+-----------------+----+-----+-----+-----+-----+-----+-----+---------------+-----------------------/\n",
      "*Goblin 2* takes 9 point(s) of piercing damage\n",
      "    *Goblin 2* is in bad shape\n",
      "    *Goblin 2* is now at 1/10 (10.0 %) HP\n",
      "turn of  *Maudal*\n",
      "    next in line is  *Odric*\n",
      "battle is over\n"
     ]
    }
   ],
   "source": [
    "E.start()\n",
    "R << E\n",
    "alea.concentrate_on(\"Dancing light\")\n",
    "gob1 - 6\n",
    "conditions.Prone() >> gob1\n",
    "E.next_turn()\n",
    "R << E\n",
    "alea - 20\n",
    "alea.stop_concentrating()\n",
    "E.next_turn()\n",
    "R << E\n",
    "gob1 - 10\n",
    "E.next_turn()\n",
    "R << E\n",
    "dmg = gob2 - Damage.as_type(9, \"piercing\")\n",
    "E.next_turn()\n",
    "E.end()\n"
   ]
  },
  {
   "cell_type": "code",
   "execution_count": 11,
   "metadata": {},
   "outputs": [
    {
     "name": "stdout",
     "output_type": "stream",
     "text": [
      "*Goblin 3* roll a 15 as initiative\n",
      "*Goblin 4* roll a 15 as initiative\n",
      "*Alea* roll a 10 as initiative\n",
      "battle begins!\n",
      "start of round 1\n",
      "turn of  *Goblin 3*\n",
      "    next in line is  *Goblin 4*\n",
      "/-------+-------+-------------+-----------------+----+-----+-----+-----+-----+-----+-----+---------------+---------------+\n",
      "| Curr. | Init. | Participant | HP              | AC | STR | DEX | CON | INT | WIS | CHA | Concentration | Conditions    |\n",
      "+-------+-------+-------------+-----------------+----+-----+-----+-----+-----+-----+-----+---------------+---------------+\n",
      "| (x)   | 15    | *Goblin 3*  | 10/10 (100.0 %) | 13 | -   | -   | -   | -   | -   | -   | ( )           |               |\n",
      "| ( )   | 15    | *Goblin 4*  | 10/10 (100.0 %) | 13 | -   | -   | -   | -   | -   | -   | ( )           |               |\n",
      "| ( )   | 10    | *Alea* (P3) | -4/19 (-21.1 %) | 14 | -   | -   | +1  | -   | -   | -   | ( )           | *unconscious* |\n",
      "+-------+-------+-------------+-----------------+----+-----+-----+-----+-----+-----+-----+---------------+---------------/\n",
      "*Alea* takes 2 point(s) of damage\n",
      "    *Alea* is *unconscious*\n",
      "    *Alea* is now at -6/19 (-31.6 %) HP\n",
      "battle is over\n"
     ]
    }
   ],
   "source": [
    "game.new_encounter()\n",
    "gob1 = Creature(\"Goblin 3\", 13, 10, 10)\n",
    "gob2 = Creature(\"Goblin 4\", 13, 10, 10)\n",
    "_reg(gob1, 15)\n",
    "_reg(gob2, 15)\n",
    "_reg(alea, 10)\n",
    "E = game.encounter\n",
    "E.start()\n",
    "R << E\n",
    "alea - 2\n",
    "E.end()"
   ]
  },
  {
   "cell_type": "code",
   "execution_count": 85,
   "metadata": {},
   "outputs": [],
   "source": [
    "from fight_tracker.rendering.renderer import Renderer\n",
    "from fight_tracker.rendering import StreamRenderer\n",
    "from fight_tracker import Encounter\n",
    "\n",
    "\n",
    "def override_ip_repr_encounter(renderer: Renderer | None):\n",
    "    from IPython.core.formatters import BaseFormatter\n",
    "\n",
    "    if renderer is None:\n",
    "        renderer = StreamRenderer()\n",
    "\n",
    "    class EncounterFormatter(BaseFormatter):\n",
    "        def __call__(self, __o, *args, **kwargs):\n",
    "            renderer << __o\n",
    "            return None\n",
    "\n",
    "    ip = get_ipython()\n",
    "    ip.display_formatter.formatters['text/plain'].for_type(Encounter, EncounterFormatter())\n"
   ]
  },
  {
   "cell_type": "code",
   "execution_count": 86,
   "metadata": {},
   "outputs": [
    {
     "name": "stdout",
     "output_type": "stream",
     "text": [
      "/-------+-------+-------------+-----------------+----+-----+-----+-----+-----+-----+-----+---------------+---------------+\n",
      "| Curr. | Init. | Participant | HP              | AC | STR | DEX | CON | INT | WIS | CHA | Concentration | Conditions    |\n",
      "+-------+-------+-------------+-----------------+----+-----+-----+-----+-----+-----+-----+---------------+---------------+\n",
      "| (x)   | 15    | *Goblin 3*  | 10/10 (100.0 %) | 13 | -   | -   | -   | -   | -   | -   | ( )           |               |\n",
      "| ( )   | 15    | *Goblin 4*  | 10/10 (100.0 %) | 13 | -   | -   | -   | -   | -   | -   | ( )           |               |\n",
      "| ( )   | 10    | *Alea* (P3) | -6/19 (-31.6 %) | 14 | -   | -   | +1  | -   | -   | -   | ( )           | *unconscious* |\n",
      "+-------+-------+-------------+-----------------+----+-----+-----+-----+-----+-----+-----+---------------+---------------/\n"
     ]
    },
    {
     "data": {
      "text/plain": []
     },
     "execution_count": 86,
     "metadata": {},
     "output_type": "execute_result"
    }
   ],
   "source": [
    "E"
   ]
  },
  {
   "cell_type": "code",
   "execution_count": 87,
   "metadata": {},
   "outputs": [
    {
     "data": {
      "text/plain": [
       "PlayerCharacter(name='Odric', armor_class=16, current_pv=20, pv_max=20)"
      ]
     },
     "execution_count": 87,
     "metadata": {},
     "output_type": "execute_result"
    }
   ],
   "source": [
    "odric"
   ]
  },
  {
   "cell_type": "code",
   "execution_count": 83,
   "metadata": {},
   "outputs": [
    {
     "name": "stdout",
     "output_type": "stream",
     "text": [
      "Odric\n"
     ]
    }
   ],
   "source": [
    "R << odric"
   ]
  },
  {
   "cell_type": "code",
   "execution_count": null,
   "metadata": {},
   "outputs": [],
   "source": []
  }
 ],
 "metadata": {
  "kernelspec": {
   "display_name": ".venv",
   "language": "python",
   "name": "python3"
  },
  "language_info": {
   "codemirror_mode": {
    "name": "ipython",
    "version": 3
   },
   "file_extension": ".py",
   "mimetype": "text/x-python",
   "name": "python",
   "nbconvert_exporter": "python",
   "pygments_lexer": "ipython3",
   "version": "3.12.0"
  }
 },
 "nbformat": 4,
 "nbformat_minor": 2
}
