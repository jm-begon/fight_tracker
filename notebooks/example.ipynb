{
 "cells": [
  {
   "cell_type": "code",
   "execution_count": 14,
   "metadata": {},
   "outputs": [
    {
     "name": "stdout",
     "output_type": "stream",
     "text": [
      "Hello! I will be the narrator for this encounter.\n"
     ]
    }
   ],
   "source": [
    "from fight_tracker import (\n",
    "    Damage, \n",
    "    conditions, \n",
    "    Game,\n",
    "    Creature,\n",
    "    PlayerCharacter as PC,\n",
    "    override_ip_repr_encounter\n",
    ")\n",
    "from fight_tracker.arithmetic import DescriptiveInt\n",
    "\n",
    "override_ip_repr_encounter()\n",
    "game = Game.init()"
   ]
  },
  {
   "cell_type": "code",
   "execution_count": 15,
   "metadata": {},
   "outputs": [],
   "source": [
    "odric = (\n",
    "    PC(\"P1\", \"Odric\", 16, 20, 20)\n",
    "    .set_saving_throws(\n",
    "        CHA=2,\n",
    "    )\n",
    "    .set_ability_modifier(DEX=1)\n",
    ")\n",
    "maudal = PC(\"P2\", \"Maudal\", 12, 15)\n",
    "alea = PC(\"P3\", \"Alea\", 14, 16, 19).set_saving_throws(CON=1)"
   ]
  },
  {
   "cell_type": "code",
   "execution_count": 16,
   "metadata": {},
   "outputs": [],
   "source": [
    "gob1 = Creature(\"Goblin 1\", DescriptiveInt(13, \"leather armor\"), 10)\n",
    "gob2 = Creature(\"Goblin 2\", 13, 10)\n",
    "gob3 = Creature(\"Goblin 3\", 13, 10)"
   ]
  },
  {
   "cell_type": "code",
   "execution_count": 17,
   "metadata": {},
   "outputs": [
    {
     "name": "stdout",
     "output_type": "stream",
     "text": [
      "*Odric* roll a 18 (d20 + 1) as initiative\n",
      "*Maudal* roll a 12 as initiative\n",
      "*Alea* roll a 16 as initiative\n",
      "*Goblin 1* roll a 11 as initiative\n",
      "*Goblin 2* roll a 15 as initiative\n",
      "battle begins!\n",
      "start of round 1\n",
      "turn of  *Odric*\n",
      "    next in line is  *Alea*\n",
      "/-------+-------+---------------+-----------------+----+-----+-----+-----+-----+-----+-----+---------------+------------+\n",
      "| Curr. | Init. | Participant   | HP              | AC | STR | DEX | CON | INT | WIS | CHA | Concentration | Conditions |\n",
      "+-------+-------+---------------+-----------------+----+-----+-----+-----+-----+-----+-----+---------------+------------+\n",
      "| (x)   | 18    | *Odric* (P1)  | 20/20 (100.0 %) | 16 | -   | -   | -   | -   | -   | +2  | ( )           |            |\n",
      "| ( )   | 16    | *Alea* (P3)   | 16/19 (84.2 %)  | 14 | -   | -   | +1  | -   | -   | -   | ( )           |            |\n",
      "| ( )   | 15    | *Goblin 2*    | 10/10 (100.0 %) | 13 | -   | -   | -   | -   | -   | -   | ( )           |            |\n",
      "| ( )   | 12    | *Maudal* (P2) | 15/15 (100.0 %) | 12 | -   | -   | -   | -   | -   | -   | ( )           |            |\n",
      "| ( )   | 11    | *Goblin 1*    | 10/10 (100.0 %) | 13 | -   | -   | -   | -   | -   | -   | ( )           |            |\n",
      "+-------+-------+---------------+-----------------+----+-----+-----+-----+-----+-----+-----+---------------+------------/\n"
     ]
    },
    {
     "data": {
      "text/plain": []
     },
     "execution_count": 17,
     "metadata": {},
     "output_type": "execute_result"
    }
   ],
   "source": [
    "E = (\n",
    "    game.create_encounter()  # Return an encounter builder\n",
    "    .add(odric)\n",
    "    .add(maudal, 12)\n",
    "    .add(alea, 16)\n",
    "    .add(gob1, 11)\n",
    "    .add(gob2, 15)\n",
    "    .start()  # Return encounter\n",
    ")\n",
    "E  # Render"
   ]
  },
  {
   "cell_type": "code",
   "execution_count": 18,
   "metadata": {},
   "outputs": [
    {
     "name": "stdout",
     "output_type": "stream",
     "text": [
      "*Alea* is concentrating on Dancing light\n",
      "*Goblin 1* takes 6 point(s) of damage\n",
      "    *Goblin 1* is in bad shape\n",
      "    *Goblin 1* is now at 4/10 (40.0 %) HP\n",
      "*Goblin 1* is *prone*\n",
      "turn of  *Alea*\n",
      "    next in line is  *Goblin 2*\n",
      "/-------+-------+---------------+-----------------+----+-----+-----+-----+-----+-----+-----+---------------+------------+\n",
      "| Curr. | Init. | Participant   | HP              | AC | STR | DEX | CON | INT | WIS | CHA | Concentration | Conditions |\n",
      "+-------+-------+---------------+-----------------+----+-----+-----+-----+-----+-----+-----+---------------+------------+\n",
      "| ( )   | 18    | *Odric* (P1)  | 20/20 (100.0 %) | 16 | -   | -   | -   | -   | -   | +2  | ( )           |            |\n",
      "| (x)   | 16    | *Alea* (P3)   | 16/19 (84.2 %)  | 14 | -   | -   | +1  | -   | -   | -   | (x)           |            |\n",
      "| ( )   | 15    | *Goblin 2*    | 10/10 (100.0 %) | 13 | -   | -   | -   | -   | -   | -   | ( )           |            |\n",
      "| ( )   | 12    | *Maudal* (P2) | 15/15 (100.0 %) | 12 | -   | -   | -   | -   | -   | -   | ( )           |            |\n",
      "| ( )   | 11    | *Goblin 1*    | 4/10 (40.0 %)   | 13 | -   | -   | -   | -   | -   | -   | ( )           | *prone*    |\n",
      "+-------+-------+---------------+-----------------+----+-----+-----+-----+-----+-----+-----+---------------+------------/\n"
     ]
    },
    {
     "data": {
      "text/plain": []
     },
     "execution_count": 18,
     "metadata": {},
     "output_type": "execute_result"
    }
   ],
   "source": [
    "alea.concentrate_on(\"Dancing light\")\n",
    "gob1 - 6\n",
    "conditions.Prone() >> gob1\n",
    "E + 1"
   ]
  },
  {
   "cell_type": "code",
   "execution_count": 19,
   "metadata": {},
   "outputs": [
    {
     "name": "stdout",
     "output_type": "stream",
     "text": [
      "*Alea* takes 20 point(s) of damage\n",
      "    *Alea* is *unconscious*\n",
      "    *Alea* is no longer concentrating\n",
      "    *Alea* is now at -4/19 (-21.1 %) HP\n",
      "*Alea* is no longer concentrating\n",
      "turn of  *Goblin 2*\n",
      "    next in line is  *Maudal*\n",
      "/-------+-------+---------------+-----------------+----+-----+-----+-----+-----+-----+-----+---------------+---------------+\n",
      "| Curr. | Init. | Participant   | HP              | AC | STR | DEX | CON | INT | WIS | CHA | Concentration | Conditions    |\n",
      "+-------+-------+---------------+-----------------+----+-----+-----+-----+-----+-----+-----+---------------+---------------+\n",
      "| ( )   | 18    | *Odric* (P1)  | 20/20 (100.0 %) | 16 | -   | -   | -   | -   | -   | +2  | ( )           |               |\n",
      "| ( )   | 16    | *Alea* (P3)   | -4/19 (-21.1 %) | 14 | -   | -   | +1  | -   | -   | -   | ( )           | *unconscious* |\n",
      "| (x)   | 15    | *Goblin 2*    | 10/10 (100.0 %) | 13 | -   | -   | -   | -   | -   | -   | ( )           |               |\n",
      "| ( )   | 12    | *Maudal* (P2) | 15/15 (100.0 %) | 12 | -   | -   | -   | -   | -   | -   | ( )           |               |\n",
      "| ( )   | 11    | *Goblin 1*    | 4/10 (40.0 %)   | 13 | -   | -   | -   | -   | -   | -   | ( )           | *prone*       |\n",
      "+-------+-------+---------------+-----------------+----+-----+-----+-----+-----+-----+-----+---------------+---------------/\n"
     ]
    },
    {
     "data": {
      "text/plain": []
     },
     "execution_count": 19,
     "metadata": {},
     "output_type": "execute_result"
    }
   ],
   "source": [
    "alea - 20\n",
    "alea.stop_concentrating()\n",
    "E + 1"
   ]
  },
  {
   "cell_type": "code",
   "execution_count": 20,
   "metadata": {},
   "outputs": [
    {
     "name": "stdout",
     "output_type": "stream",
     "text": [
      "*Goblin 2* roll a 12 as initiative\n",
      "/-------+-------+---------------+-----------------+----+-----+-----+-----+-----+-----+-----+---------------+---------------+\n",
      "| Curr. | Init. | Participant   | HP              | AC | STR | DEX | CON | INT | WIS | CHA | Concentration | Conditions    |\n",
      "+-------+-------+---------------+-----------------+----+-----+-----+-----+-----+-----+-----+---------------+---------------+\n",
      "| ( )   | 18    | *Odric* (P1)  | 20/20 (100.0 %) | 16 | -   | -   | -   | -   | -   | +2  | ( )           |               |\n",
      "| ( )   | 16    | *Alea* (P3)   | -4/19 (-21.1 %) | 14 | -   | -   | +1  | -   | -   | -   | ( )           | *unconscious* |\n",
      "| (x)   | 15    | *Goblin 2*    | 10/10 (100.0 %) | 13 | -   | -   | -   | -   | -   | -   | ( )           |               |\n",
      "| ( )   | 12    | *Maudal* (P2) | 15/15 (100.0 %) | 12 | -   | -   | -   | -   | -   | -   | ( )           |               |\n",
      "| ( )   | 12    | *Goblin 2*    | 10/10 (100.0 %) | 13 | -   | -   | -   | -   | -   | -   | ( )           |               |\n",
      "| ( )   | 11    | *Goblin 1*    | 4/10 (40.0 %)   | 13 | -   | -   | -   | -   | -   | -   | ( )           | *prone*       |\n",
      "+-------+-------+---------------+-----------------+----+-----+-----+-----+-----+-----+-----+---------------+---------------/\n"
     ]
    },
    {
     "data": {
      "text/plain": []
     },
     "execution_count": 20,
     "metadata": {},
     "output_type": "execute_result"
    }
   ],
   "source": [
    "E.add(gob3, 12)\n",
    "E"
   ]
  },
  {
   "cell_type": "code",
   "execution_count": 21,
   "metadata": {},
   "outputs": [
    {
     "name": "stdout",
     "output_type": "stream",
     "text": [
      "*Goblin 1* takes 10 point(s) of damage\n",
      "    *Goblin 1* is *unconscious*\n",
      "    *Goblin 1* is now at -6/10 (-60.0 %) HP\n",
      "turn of  *Maudal*\n",
      "    next in line is  *Goblin 2*\n",
      "*Goblin 2* takes 9 point(s) of piercing damage\n",
      "    *Goblin 2* is in bad shape\n",
      "    *Goblin 2* is now at 1/10 (10.0 %) HP\n",
      "battle is over\n",
      "/-------+-------+---------------+-----------------+----+-----+-----+-----+-----+-----+-----+---------------+-----------------------+\n",
      "| Curr. | Init. | Participant   | HP              | AC | STR | DEX | CON | INT | WIS | CHA | Concentration | Conditions            |\n",
      "+-------+-------+---------------+-----------------+----+-----+-----+-----+-----+-----+-----+---------------+-----------------------+\n",
      "| ( )   | 18    | *Odric* (P1)  | 20/20 (100.0 %) | 16 | -   | -   | -   | -   | -   | +2  | ( )           |                       |\n",
      "| ( )   | 16    | *Alea* (P3)   | -4/19 (-21.1 %) | 14 | -   | -   | +1  | -   | -   | -   | ( )           | *unconscious*         |\n",
      "| ( )   | 15    | *Goblin 2*    | 1/10 (10.0 %)   | 13 | -   | -   | -   | -   | -   | -   | ( )           |                       |\n",
      "| (x)   | 12    | *Maudal* (P2) | 15/15 (100.0 %) | 12 | -   | -   | -   | -   | -   | -   | ( )           |                       |\n",
      "| ( )   | 12    | *Goblin 2*    | 10/10 (100.0 %) | 13 | -   | -   | -   | -   | -   | -   | ( )           |                       |\n",
      "| ( )   | 11    | *Goblin 1*    | -6/10 (-60.0 %) | 13 | -   | -   | -   | -   | -   | -   | ( )           | *prone* *unconscious* |\n",
      "+-------+-------+---------------+-----------------+----+-----+-----+-----+-----+-----+-----+---------------+-----------------------/\n"
     ]
    },
    {
     "data": {
      "text/plain": []
     },
     "execution_count": 21,
     "metadata": {},
     "output_type": "execute_result"
    }
   ],
   "source": [
    "gob1 - 10\n",
    "E+1\n",
    "dmg = gob2 - Damage.as_type(9, \"piercing\")\n",
    "E.end()"
   ]
  },
  {
   "cell_type": "code",
   "execution_count": 22,
   "metadata": {},
   "outputs": [
    {
     "name": "stdout",
     "output_type": "stream",
     "text": [
      "*Zombie 1* roll a 9 (d20 + -2) as initiative\n",
      "*Zombie 2* roll a 2 (d20 + -2) as initiative\n",
      "*Odric* roll a 15 as initiative\n",
      "battle begins!\n",
      "start of round 1\n",
      "turn of  *Odric*\n",
      "    next in line is  *Zombie 1*\n",
      "*Odric* takes 2 point(s) of damage\n",
      "    *Odric* is now at 18/20 (90.0 %) HP\n",
      "battle is over\n",
      "/-------+-------+--------------+-----------------+----+-----+-----+-----+-----+-----+-----+---------------+------------+\n",
      "| Curr. | Init. | Participant  | HP              | AC | STR | DEX | CON | INT | WIS | CHA | Concentration | Conditions |\n",
      "+-------+-------+--------------+-----------------+----+-----+-----+-----+-----+-----+-----+---------------+------------+\n",
      "| (x)   | 15    | *Odric* (P1) | 18/20 (90.0 %)  | 16 | -   | -   | -   | -   | -   | +2  | ( )           |            |\n",
      "| ( )   | 9     | *Zombie 1*   | 22/22 (100.0 %) | 8  | -   | -   | -   | -   | -   | -   | ( )           |            |\n",
      "| ( )   | 2     | *Zombie 2*   | 22/22 (100.0 %) | 8  | -   | -   | -   | -   | -   | -   | ( )           |            |\n",
      "+-------+-------+--------------+-----------------+----+-----+-----+-----+-----+-----+-----+---------------+------------/\n"
     ]
    },
    {
     "data": {
      "text/plain": []
     },
     "execution_count": 22,
     "metadata": {},
     "output_type": "execute_result"
    }
   ],
   "source": [
    "gob1 = Creature(\"Goblin 3\", 13, 10, 10)\n",
    "gob2 = Creature(\"Goblin 4\", 13, 10, 10)\n",
    "\n",
    "class Zombie(Creature):\n",
    "    def __init__(self, name, armor_class=8, current_pv=22, pv_max=None, speed=20):\n",
    "        super().__init__(name, armor_class, current_pv, pv_max, speed)\n",
    "        self.set_ability_modifier(DEX=-2)\n",
    "\n",
    "zombie1 = Zombie(\"Zombie 1\")\n",
    "zombie2 = Zombie(\"Zombie 2\")\n",
    "\n",
    "E = (\n",
    "    game.create_encounter()\n",
    "    .add(zombie1)\n",
    "    .add(zombie2)\n",
    "    .add(odric, 15)\n",
    "    .start()\n",
    ")\n",
    "odric - 2\n",
    "E.end()"
   ]
  },
  {
   "cell_type": "code",
   "execution_count": null,
   "metadata": {},
   "outputs": [],
   "source": []
  }
 ],
 "metadata": {
  "kernelspec": {
   "display_name": ".venv",
   "language": "python",
   "name": "python3"
  },
  "language_info": {
   "codemirror_mode": {
    "name": "ipython",
    "version": 3
   },
   "file_extension": ".py",
   "mimetype": "text/x-python",
   "name": "python",
   "nbconvert_exporter": "python",
   "pygments_lexer": "ipython3",
   "version": "3.12.0"
  }
 },
 "nbformat": 4,
 "nbformat_minor": 2
}
