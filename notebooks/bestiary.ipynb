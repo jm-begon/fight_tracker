{
 "cells": [
  {
   "cell_type": "markdown",
   "metadata": {},
   "source": [
    "# Bestiary"
   ]
  },
  {
   "cell_type": "code",
   "execution_count": 1,
   "metadata": {},
   "outputs": [],
   "source": [
    "from fight_tracker import override_ip_repr\n",
    "\n",
    "override_ip_repr()"
   ]
  },
  {
   "cell_type": "markdown",
   "metadata": {},
   "source": [
    "## Kobolds"
   ]
  },
  {
   "cell_type": "code",
   "execution_count": 2,
   "metadata": {},
   "outputs": [],
   "source": [
    "from fight_tracker.bestiary import (\n",
    "    create_winged_kobold,\n",
    "    create_kobold,\n",
    "    create_kobold_tracker,\n",
    ")"
   ]
  },
  {
   "cell_type": "code",
   "execution_count": 3,
   "metadata": {},
   "outputs": [
    {
     "name": "stdout",
     "output_type": "stream",
     "text": [
      "/------------------------------------------------------------------------------+\n",
      "| KOBOLD                                                                       |\n",
      "| Small Humanoid (Kobold), lawful evil                                         |\n",
      "| ---------------------------------------------------------------------------- |\n",
      "| - \u001b[1mArmor Class\u001b[0m: 12                                                            |\n",
      "| - \u001b[1mHit points\u001b[0m: 5 (2d6 + -2)                                                   |\n",
      "| - \u001b[1mSpeed\u001b[0m: 6.0 sq                                                              |\n",
      "| /----------+-----+-----+-----+-----+-----+-----+                             |\n",
      "| |          | STR | DEX | CON | INT | WIS | CHA |                             |\n",
      "| +----------+-----+-----+-----+-----+-----+-----+                             |\n",
      "| | Modifier | -2  | +2  | -1  | -1  | -2  | -1  |                             |\n",
      "| | Save     | -2  | +2  | -1  | -1  | -2  | -1  |                             |\n",
      "| +----------+-----+-----+-----+-----+-----+-----/                             |\n",
      "| - \u001b[1mProficiency bonus\u001b[0m: 2                                                       |\n",
      "| - \u001b[1mSense\u001b[0m: Darkvision 60 ft.                                                   |\n",
      "| - \u001b[1mLanguages\u001b[0m: Common, Draconic                                                |\n",
      "| - \u001b[1mChallenge rating\u001b[0m: 1/8                                                      |\n",
      "| ---------------------------------------------------------------------------- |\n",
      "| - \u001b[1mPack Tactics\u001b[0m: This creature has advantage on an attack roll                |\n",
      "| against an opponent if at least one of the his allies is within 5 feet of    |\n",
      "| the opponent and the ally isn't incapacitated.                               |\n",
      "| - \u001b[1mSunlight Sensitivity\u001b[0m: While in sunlight, this creature has                 |\n",
      "| disadvantage on attack rolls, as well as on Wisdom (Perception) checks that  |\n",
      "| rely on sight.                                                               |\n",
      "| ----------------------------------------------------------------------Action |\n",
      "| - \u001b[1mDagger\u001b[0m: Ranged Weapon Attack: +4 to hit, range 30/120 ft., one             |\n",
      "| target. Hit: 4 (1d4 + 2) bludgeoning damage.                                 |\n",
      "| - \u001b[1mSling\u001b[0m: Ranged Weapon Attack: +4 to hit, range 30/120 ft., one              |\n",
      "| target. Hit: 4 (1d4 + 2) bludgeoning damage.                                 |\n",
      "+------------------------------------------------------------------------------/\n"
     ]
    },
    {
     "data": {
      "text/plain": []
     },
     "execution_count": 3,
     "metadata": {},
     "output_type": "execute_result"
    }
   ],
   "source": [
    "create_kobold()"
   ]
  },
  {
   "cell_type": "code",
   "execution_count": 4,
   "metadata": {},
   "outputs": [
    {
     "name": "stdout",
     "output_type": "stream",
     "text": [
      "/------------------------------------------------------------------------------+\n",
      "| WINGED KOBOLD                                                                |\n",
      "| Small Humanoid (Kobold), lawful evil                                         |\n",
      "| ---------------------------------------------------------------------------- |\n",
      "| - \u001b[1mArmor Class\u001b[0m: 13                                                            |\n",
      "| - \u001b[1mHit points\u001b[0m: 5 (2d6 + -2)                                                   |\n",
      "| - \u001b[1mSpeed\u001b[0m: 6.0 sq, fly 6.0 sq                                                  |\n",
      "| /----------+-----+-----+-----+-----+-----+-----+                             |\n",
      "| |          | STR | DEX | CON | INT | WIS | CHA |                             |\n",
      "| +----------+-----+-----+-----+-----+-----+-----+                             |\n",
      "| | Modifier | -2  | +3  | -1  | -1  | -2  | -1  |                             |\n",
      "| | Save     | -2  | +3  | -1  | -1  | -2  | -1  |                             |\n",
      "| +----------+-----+-----+-----+-----+-----+-----/                             |\n",
      "| - \u001b[1mProficiency bonus\u001b[0m: 2                                                       |\n",
      "| - \u001b[1mSense\u001b[0m: Darkvision 60 ft.                                                   |\n",
      "| - \u001b[1mLanguages\u001b[0m: Common, Draconic                                                |\n",
      "| - \u001b[1mChallenge rating\u001b[0m: 1/4                                                      |\n",
      "| ---------------------------------------------------------------------------- |\n",
      "| - \u001b[1mPack Tactics\u001b[0m: This creature has advantage on an attack roll                |\n",
      "| against an opponent if at least one of the his allies is within 5 feet of    |\n",
      "| the opponent and the ally isn't incapacitated.                               |\n",
      "| - \u001b[1mSunlight Sensitivity\u001b[0m: While in sunlight, this creature has                 |\n",
      "| disadvantage on attack rolls, as well as on Wisdom (Perception) checks that  |\n",
      "| rely on sight.                                                               |\n",
      "| ----------------------------------------------------------------------Action |\n",
      "| - \u001b[1mDagger\u001b[0m: Ranged Weapon Attack: +4 to hit, range 30/120 ft., one             |\n",
      "| target. Hit: 4 (1d4 + 2) bludgeoning damage.                                 |\n",
      "| - \u001b[1mSling\u001b[0m: Ranged Weapon Attack: +4 to hit, range 30/120 ft., one              |\n",
      "| target. Hit: 4 (1d4 + 2) bludgeoning damage.                                 |\n",
      "| - \u001b[1mDrop Rock\u001b[0m: Ranged Weapon Attack: +5 to hit, one target directly            |\n",
      "| below the kobold. Hit: 6 (1d6 + 3) bludgeoning damage.                       |\n",
      "+------------------------------------------------------------------------------/\n"
     ]
    },
    {
     "data": {
      "text/plain": []
     },
     "execution_count": 4,
     "metadata": {},
     "output_type": "execute_result"
    }
   ],
   "source": [
    "create_winged_kobold()"
   ]
  },
  {
   "cell_type": "code",
   "execution_count": 5,
   "metadata": {},
   "outputs": [
    {
     "name": "stdout",
     "output_type": "stream",
     "text": [
      "/------------------------------------------------------------------------------+\n",
      "| KOBOLD TRACKER                                                               |\n",
      "| Small Humanoid (Kobold), lawful evil                                         |\n",
      "| ---------------------------------------------------------------------------- |\n",
      "| - \u001b[1mArmor Class\u001b[0m: 14 (natural armor)                                            |\n",
      "| - \u001b[1mHit points\u001b[0m: 7 (3d6 + -3)                                                   |\n",
      "| - \u001b[1mSpeed\u001b[0m: 6.0 sq                                                              |\n",
      "| /----------+-----+-----+-----+-----+-----+-----+                             |\n",
      "| |          | STR | DEX | CON | INT | WIS | CHA |                             |\n",
      "| +----------+-----+-----+-----+-----+-----+-----+                             |\n",
      "| | Modifier | -2  | +2  | -1  | +0  | +3  | -1  |                             |\n",
      "| | Save     | -2  | +2  | -1  | +0  | +5  | -1  |                             |\n",
      "| +----------+-----+-----+-----+-----+-----+-----/                             |\n",
      "| - \u001b[1mProficiency bonus\u001b[0m: 2                                                       |\n",
      "| - \u001b[1mSense\u001b[0m: Darkvision 60 ft.                                                   |\n",
      "| - \u001b[1mLanguages\u001b[0m: Common, Draconic                                                |\n",
      "| - \u001b[1mChallenge rating\u001b[0m: 1/2                                                      |\n",
      "| ---------------------------------------------------------------------------- |\n",
      "| - \u001b[1mPack Tactics\u001b[0m: This creature has advantage on an attack roll                |\n",
      "| against an opponent if at least one of the his allies is within 5 feet of    |\n",
      "| the opponent and the ally isn't incapacitated.                               |\n",
      "| - \u001b[1mSunlight Sensitivity\u001b[0m: While in sunlight, this creature has                 |\n",
      "| disadvantage on attack rolls, as well as on Wisdom (Perception) checks that  |\n",
      "| rely on sight.                                                               |\n",
      "| - \u001b[1mKeen Smell\u001b[0m: The kobold tracker has advantage on Wisdom                     |\n",
      "| (Perception) checks that rely on smell.                                      |\n",
      "| - \u001b[1mInfravision\u001b[0m: The kobold tracker can see in both magical and                |\n",
      "| non-magical darkness as if it were bright light up to a distance of 60 feet. |\n",
      "| ----------------------------------------------------------------------Action |\n",
      "| - \u001b[1mDagger\u001b[0m: Ranged Weapon Attack: +4 to hit, range 30/120 ft., one             |\n",
      "| target. Hit: 4 (1d4 + 2) bludgeoning damage.                                 |\n",
      "| - \u001b[1mSling\u001b[0m: Ranged Weapon Attack: +4 to hit, range 30/120 ft., one              |\n",
      "| target. Hit: 4 (1d4 + 2) bludgeoning damage.                                 |\n",
      "| - \u001b[1mTrack\u001b[0m: 1/Day. The kobold tracker can use its action to pinpoint            |\n",
      "| the location of a specific creature it is familiar with, as long as the      |\n",
      "| creature is within 1 mile and has left a scent trail within the last 24      |\n",
      "| hours.                                                                       |\n",
      "+------------------------------------------------------------------------------/\n"
     ]
    },
    {
     "data": {
      "text/plain": []
     },
     "execution_count": 5,
     "metadata": {},
     "output_type": "execute_result"
    }
   ],
   "source": [
    "create_kobold_tracker()"
   ]
  },
  {
   "cell_type": "markdown",
   "metadata": {},
   "source": [
    "## Misc. humanoid"
   ]
  },
  {
   "cell_type": "code",
   "execution_count": 6,
   "metadata": {},
   "outputs": [],
   "source": [
    "from fight_tracker.bestiary.misc_humanoids import (\n",
    "    create_thug, \n",
    "    create_bandit,\n",
    "    create_apprentice_wizard,\n",
    ")\n",
    "from fight_tracker.mechanics import race"
   ]
  },
  {
   "cell_type": "code",
   "execution_count": 7,
   "metadata": {},
   "outputs": [
    {
     "name": "stdout",
     "output_type": "stream",
     "text": [
      "/------------------------------------------------------------------------------+\n",
      "| BANDIT                                                                       |\n",
      "| Medium Humanoid (Human)                                                      |\n",
      "| ---------------------------------------------------------------------------- |\n",
      "| - \u001b[1mArmor Class\u001b[0m: 12 (leather armor)                                            |\n",
      "| - \u001b[1mHit points\u001b[0m: 11 (2d8 + 2)                                                   |\n",
      "| - \u001b[1mSpeed\u001b[0m: 6.0 sq                                                              |\n",
      "| /----------+-----+-----+-----+-----+-----+-----+                             |\n",
      "| |          | STR | DEX | CON | INT | WIS | CHA |                             |\n",
      "| +----------+-----+-----+-----+-----+-----+-----+                             |\n",
      "| | Modifier | +0  | +1  | +1  | +0  | +0  | +0  |                             |\n",
      "| | Save     | +0  | +1  | +1  | +0  | +0  | +0  |                             |\n",
      "| +----------+-----+-----+-----+-----+-----+-----/                             |\n",
      "| - \u001b[1mProficiency bonus\u001b[0m: 2                                                       |\n",
      "| - \u001b[1mChallenge rating\u001b[0m: 1/8                                                      |\n",
      "| ----------------------------------------------------------------------Action |\n",
      "| - \u001b[1mScimitar\u001b[0m: Melee Weapon Attack: +3 to hit, reach 1.0 sq , 1                 |\n",
      "| target(s). Hit 4 (d6 + 1) slashing damage.                                   |\n",
      "| - \u001b[1mLight Crossbow\u001b[0m: Range Weapon Attack: +3 to hit, range 16.0/64.0 sq         |\n",
      "| , 1 target(s). Hit 5 (d8 + 1) piercing damage.                               |\n",
      "+------------------------------------------------------------------------------/\n"
     ]
    },
    {
     "data": {
      "text/plain": []
     },
     "execution_count": 7,
     "metadata": {},
     "output_type": "execute_result"
    }
   ],
   "source": [
    "create_bandit(race.HUMAN)"
   ]
  },
  {
   "cell_type": "code",
   "execution_count": 8,
   "metadata": {},
   "outputs": [
    {
     "name": "stdout",
     "output_type": "stream",
     "text": [
      "/------------------------------------------------------------------------------+\n",
      "| WIZARD APPRENTICE                                                            |\n",
      "| Small Humanoid (Gnome)                                                       |\n",
      "| ---------------------------------------------------------------------------- |\n",
      "| - \u001b[1mArmor Class\u001b[0m: 10                                                            |\n",
      "| - \u001b[1mHit points\u001b[0m: 10 (3d6 + 0)                                                   |\n",
      "| - \u001b[1mSpeed\u001b[0m: 5.0 sq                                                              |\n",
      "| /----------+-----+-----+-----+-----+-----+-----+                             |\n",
      "| |          | STR | DEX | CON | INT | WIS | CHA |                             |\n",
      "| +----------+-----+-----+-----+-----+-----+-----+                             |\n",
      "| | Modifier | +0  | +0  | +0  | +2  | +0  | +1  |                             |\n",
      "| | Save     | +0  | +0  | +0  | +2  | +0  | +1  |                             |\n",
      "| +----------+-----+-----+-----+-----+-----+-----/                             |\n",
      "| - \u001b[1mProficiency bonus\u001b[0m: 2                                                       |\n",
      "| - \u001b[1mChallenge rating\u001b[0m: 1/4                                                      |\n",
      "| ----------------------------------------------------------------------Action |\n",
      "| - \u001b[1mArcane burst\u001b[0m: Melee Spell Attack: +4 to hit, reach 1.0 sq , 1              |\n",
      "| target(s). Hit 7 (d10 + 2) force damage.                                     |\n",
      "| - \u001b[1mFirebolt\u001b[0m: Range Spell Attack: +4 to hit, range 24.0 sq , 1                 |\n",
      "| target(s). Hit 7 (d10 + 2) fire damage.                                      |\n",
      "| - \u001b[1mShield\u001b[0m: 1/day, +5 AC as reaction (until start of next turn)                |\n",
      "| - \u001b[1mSpill balls\u001b[0m: 1 charge, cover an adjacent 10-feet square ground             |\n",
      "| with metal balls. The terrain becomes difficult (or must succeed a DC 12 DEX |\n",
      "| save).                                                                       |\n",
      "+------------------------------------------------------------------------------/\n"
     ]
    },
    {
     "data": {
      "text/plain": []
     },
     "execution_count": 8,
     "metadata": {},
     "output_type": "execute_result"
    }
   ],
   "source": [
    "create_apprentice_wizard(race.GNOME)"
   ]
  },
  {
   "cell_type": "code",
   "execution_count": 9,
   "metadata": {},
   "outputs": [
    {
     "name": "stdout",
     "output_type": "stream",
     "text": [
      "/------------------------------------------------------------------------------+\n",
      "| THUG                                                                         |\n",
      "| Medium Humanoid (Human)                                                      |\n",
      "| ---------------------------------------------------------------------------- |\n",
      "| - \u001b[1mArmor Class\u001b[0m: 11 (leather armor)                                            |\n",
      "| - \u001b[1mHit points\u001b[0m: 32 (5d8 + 10)                                                  |\n",
      "| - \u001b[1mSpeed\u001b[0m: 6.0 sq                                                              |\n",
      "| /----------+-----+-----+-----+-----+-----+-----+                             |\n",
      "| |          | STR | DEX | CON | INT | WIS | CHA |                             |\n",
      "| +----------+-----+-----+-----+-----+-----+-----+                             |\n",
      "| | Modifier | +2  | +0  | +2  | +0  | +0  | +0  |                             |\n",
      "| | Save     | +2  | +0  | +2  | +0  | +0  | +0  |                             |\n",
      "| +----------+-----+-----+-----+-----+-----+-----/                             |\n",
      "| - \u001b[1mProficiency bonus\u001b[0m: 2                                                       |\n",
      "| - \u001b[1mChallenge rating\u001b[0m: 1/2                                                      |\n",
      "| ---------------------------------------------------------------------------- |\n",
      "| - \u001b[1mPack Tactics\u001b[0m: This creature has advantage on an attack roll                |\n",
      "| against an opponent if at least one of the his allies is within 5 feet of    |\n",
      "| the opponent and the ally isn't incapacitated.                               |\n",
      "| ----------------------------------------------------------------------Action |\n",
      "| - \u001b[1mMultiattack\u001b[0m: This creature makes 2 attacks; with his mace.                 |\n",
      "| - \u001b[1mMace\u001b[0m: Melee Weapon Attack: +4 to hit, reach 1.0 sq , 1 target(s).          |\n",
      "| Hit 5 (d6 + 2) bludgeoning damage.                                           |\n",
      "| - \u001b[1mHeavy Crossbow\u001b[0m: Range Weapon Attack: +2 to hit, range 20.0/80.0 sq         |\n",
      "| , 1 target(s). Hit 5 (d10) piercing damage.                                  |\n",
      "+------------------------------------------------------------------------------/\n"
     ]
    },
    {
     "data": {
      "text/plain": []
     },
     "execution_count": 9,
     "metadata": {},
     "output_type": "execute_result"
    }
   ],
   "source": [
    "create_thug(race.HUMAN)"
   ]
  },
  {
   "cell_type": "markdown",
   "metadata": {},
   "source": [
    "## Undead"
   ]
  },
  {
   "cell_type": "code",
   "execution_count": null,
   "metadata": {},
   "outputs": [],
   "source": []
  },
  {
   "cell_type": "code",
   "execution_count": null,
   "metadata": {},
   "outputs": [],
   "source": []
  },
  {
   "cell_type": "markdown",
   "metadata": {},
   "source": [
    "## Misc beast"
   ]
  },
  {
   "cell_type": "code",
   "execution_count": null,
   "metadata": {},
   "outputs": [],
   "source": []
  }
 ],
 "metadata": {
  "kernelspec": {
   "display_name": ".venv",
   "language": "python",
   "name": "python3"
  },
  "language_info": {
   "codemirror_mode": {
    "name": "ipython",
    "version": 3
   },
   "file_extension": ".py",
   "mimetype": "text/x-python",
   "name": "python",
   "nbconvert_exporter": "python",
   "pygments_lexer": "ipython3",
   "version": "3.12.0"
  }
 },
 "nbformat": 4,
 "nbformat_minor": 2
}
