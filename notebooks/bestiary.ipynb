{
 "cells": [
  {
   "cell_type": "markdown",
   "metadata": {},
   "source": [
    "# Bestiary"
   ]
  },
  {
   "cell_type": "code",
   "execution_count": 1,
   "metadata": {},
   "outputs": [],
   "source": [
    "from fight_tracker import override_ip_repr\n",
    "\n",
    "override_ip_repr()"
   ]
  },
  {
   "cell_type": "markdown",
   "metadata": {},
   "source": [
    "## Kobolds"
   ]
  },
  {
   "cell_type": "code",
   "execution_count": 2,
   "metadata": {},
   "outputs": [],
   "source": [
    "from fight_tracker.bestiary import (\n",
    "    create_winged_kobold,\n",
    "    create_kobold,\n",
    "    create_kobold_tracker,\n",
    ")"
   ]
  },
  {
   "cell_type": "code",
   "execution_count": 3,
   "metadata": {},
   "outputs": [
    {
     "name": "stdout",
     "output_type": "stream",
     "text": [
      "/------------------------------------------------------------------------------+\n",
      "| KOBOLD                                                                       |\n",
      "| Small Humanid (Kobold), lawful evil                                          |\n",
      "| ---------------------------------------------------------------------------- |\n",
      "| - \u001b[1mArmor Class\u001b[0m: 12                                                            |\n",
      "| - \u001b[1mHit points\u001b[0m: 4 (2d6 + -2)                                                   |\n",
      "| - \u001b[1mSpeed\u001b[0m: 6.0 sq                                                              |\n",
      "| /----------+-----+-----+-----+-----+-----+-----+                             |\n",
      "| |          | STR | DEX | CON | INT | WIS | CHA |                             |\n",
      "| +----------+-----+-----+-----+-----+-----+-----+                             |\n",
      "| | Modifier | -2  | +2  | -1  | -1  | -2  | -1  |                             |\n",
      "| | Save     | -2  | +2  | -1  | -1  | -2  | -1  |                             |\n",
      "| +----------+-----+-----+-----+-----+-----+-----/                             |\n",
      "| - \u001b[1mProficiency bonus\u001b[0m: 2                                                       |\n",
      "| - \u001b[1mSense\u001b[0m: Darkvision 60 ft.                                                   |\n",
      "| - \u001b[1mLanguages\u001b[0m: Common, Draconic                                                |\n",
      "| - \u001b[1mChallenge rating\u001b[0m: 1/8                                                      |\n",
      "| ---------------------------------------------------------------------------- |\n",
      "| - \u001b[1mSunlight Sensitivity\u001b[0m: While in sunlight, the kobold tracker has            |\n",
      "| disadvantage on attack rolls, as well as on Wisdom (Perception) checks that  |\n",
      "| rely on sight.                                                               |\n",
      "| - \u001b[1mPack Tactics\u001b[0m: The kobold tracker has advantage on an attack roll           |\n",
      "| against a creature if at least one of the kobold's allies is within 5 feet   |\n",
      "| of the creature and the ally isn't incapacitated.                            |\n",
      "| ----------------------------------------------------------------------Action |\n",
      "| - \u001b[1mDagger\u001b[0m: Ranged Weapon Attack: +4 to hit, range 30/120 ft., one             |\n",
      "| target. Hit: 4 (1d4 + 2) bludgeoning damage.                                 |\n",
      "| - \u001b[1mSling\u001b[0m: Ranged Weapon Attack: +4 to hit, range 30/120 ft., one              |\n",
      "| target. Hit: 4 (1d4 + 2) bludgeoning damage.                                 |\n",
      "+------------------------------------------------------------------------------/\n"
     ]
    },
    {
     "data": {
      "text/plain": []
     },
     "execution_count": 3,
     "metadata": {},
     "output_type": "execute_result"
    }
   ],
   "source": [
    "create_kobold()"
   ]
  },
  {
   "cell_type": "code",
   "execution_count": 4,
   "metadata": {},
   "outputs": [
    {
     "name": "stdout",
     "output_type": "stream",
     "text": [
      "/------------------------------------------------------------------------------+\n",
      "| WINGED KOBOLD                                                                |\n",
      "| Small Humanid (Kobold), lawful evil                                          |\n",
      "| ---------------------------------------------------------------------------- |\n",
      "| - \u001b[1mArmor Class\u001b[0m: 13                                                            |\n",
      "| - \u001b[1mHit points\u001b[0m: 4 (2d6 + -2)                                                   |\n",
      "| - \u001b[1mSpeed\u001b[0m: 6.0 sq, fly 6.0 sq                                                  |\n",
      "| /----------+-----+-----+-----+-----+-----+-----+                             |\n",
      "| |          | STR | DEX | CON | INT | WIS | CHA |                             |\n",
      "| +----------+-----+-----+-----+-----+-----+-----+                             |\n",
      "| | Modifier | -2  | +3  | -1  | -1  | -2  | -1  |                             |\n",
      "| | Save     | -2  | +3  | -1  | -1  | -2  | -1  |                             |\n",
      "| +----------+-----+-----+-----+-----+-----+-----/                             |\n",
      "| - \u001b[1mProficiency bonus\u001b[0m: 2                                                       |\n",
      "| - \u001b[1mSense\u001b[0m: Darkvision 60 ft.                                                   |\n",
      "| - \u001b[1mLanguages\u001b[0m: Common, Draconic                                                |\n",
      "| - \u001b[1mChallenge rating\u001b[0m: 1/4                                                      |\n",
      "| ---------------------------------------------------------------------------- |\n",
      "| - \u001b[1mSunlight Sensitivity\u001b[0m: While in sunlight, the kobold tracker has            |\n",
      "| disadvantage on attack rolls, as well as on Wisdom (Perception) checks that  |\n",
      "| rely on sight.                                                               |\n",
      "| - \u001b[1mPack Tactics\u001b[0m: The kobold tracker has advantage on an attack roll           |\n",
      "| against a creature if at least one of the kobold's allies is within 5 feet   |\n",
      "| of the creature and the ally isn't incapacitated.                            |\n",
      "| ----------------------------------------------------------------------Action |\n",
      "| - \u001b[1mDagger\u001b[0m: Ranged Weapon Attack: +4 to hit, range 30/120 ft., one             |\n",
      "| target. Hit: 4 (1d4 + 2) bludgeoning damage.                                 |\n",
      "| - \u001b[1mSling\u001b[0m: Ranged Weapon Attack: +4 to hit, range 30/120 ft., one              |\n",
      "| target. Hit: 4 (1d4 + 2) bludgeoning damage.                                 |\n",
      "| - \u001b[1mDrop Rock\u001b[0m: Ranged Weapon Attack: +5 to hit, one target directly            |\n",
      "| below the kobold. Hit: 6 (1d6 + 3) bludgeoning damage.                       |\n",
      "+------------------------------------------------------------------------------/\n"
     ]
    },
    {
     "data": {
      "text/plain": []
     },
     "execution_count": 4,
     "metadata": {},
     "output_type": "execute_result"
    }
   ],
   "source": [
    "create_winged_kobold()"
   ]
  },
  {
   "cell_type": "code",
   "execution_count": 5,
   "metadata": {},
   "outputs": [
    {
     "name": "stdout",
     "output_type": "stream",
     "text": [
      "/------------------------------------------------------------------------------+\n",
      "| KOBOLD TRACKER                                                               |\n",
      "| Small Humanid (Kobold), lawful evil                                          |\n",
      "| ---------------------------------------------------------------------------- |\n",
      "| - \u001b[1mArmor Class\u001b[0m: 14 (natural armor)                                            |\n",
      "| - \u001b[1mHit points\u001b[0m: 6 (3d6 + -3)                                                   |\n",
      "| - \u001b[1mSpeed\u001b[0m: 6.0 sq                                                              |\n",
      "| /----------+-----+-----+-----+-----+-----+-----+                             |\n",
      "| |          | STR | DEX | CON | INT | WIS | CHA |                             |\n",
      "| +----------+-----+-----+-----+-----+-----+-----+                             |\n",
      "| | Modifier | -2  | +2  | -1  | +0  | +3  | -1  |                             |\n",
      "| | Save     | -2  | +2  | -1  | +0  | +5  | -1  |                             |\n",
      "| +----------+-----+-----+-----+-----+-----+-----/                             |\n",
      "| - \u001b[1mProficiency bonus\u001b[0m: 2                                                       |\n",
      "| - \u001b[1mSense\u001b[0m: Darkvision 60 ft.                                                   |\n",
      "| - \u001b[1mLanguages\u001b[0m: Common, Draconic                                                |\n",
      "| - \u001b[1mChallenge rating\u001b[0m: 1/2                                                      |\n",
      "| ---------------------------------------------------------------------------- |\n",
      "| - \u001b[1mKeen Smell\u001b[0m: The kobold tracker has advantage on Wisdom                     |\n",
      "| (Perception) checks that rely on smell.                                      |\n",
      "| - \u001b[1mInfravision\u001b[0m: The kobold tracker can see in both magical and                |\n",
      "| non-magical darkness as if it were bright light up to a distance of 60 feet. |\n",
      "| - \u001b[1mSunlight Sensitivity\u001b[0m: While in sunlight, the kobold tracker has            |\n",
      "| disadvantage on attack rolls, as well as on Wisdom (Perception) checks that  |\n",
      "| rely on sight.                                                               |\n",
      "| - \u001b[1mPack Tactics\u001b[0m: The kobold tracker has advantage on an attack roll           |\n",
      "| against a creature if at least one of the kobold's allies is within 5 feet   |\n",
      "| of the creature and the ally isn't incapacitated.                            |\n",
      "| ----------------------------------------------------------------------Action |\n",
      "| - \u001b[1mDagger\u001b[0m: Ranged Weapon Attack: +4 to hit, range 30/120 ft., one             |\n",
      "| target. Hit: 4 (1d4 + 2) bludgeoning damage.                                 |\n",
      "| - \u001b[1mSling\u001b[0m: Ranged Weapon Attack: +4 to hit, range 30/120 ft., one              |\n",
      "| target. Hit: 4 (1d4 + 2) bludgeoning damage.                                 |\n",
      "| - \u001b[1mTrack\u001b[0m: 1/Day. The kobold tracker can use its action to pinpoint            |\n",
      "| the location of a specific creature it is familiar with, as long as the      |\n",
      "| creature is within 1 mile and has left a scent trail within the last 24      |\n",
      "| hours.                                                                       |\n",
      "+------------------------------------------------------------------------------/\n"
     ]
    },
    {
     "data": {
      "text/plain": []
     },
     "execution_count": 5,
     "metadata": {},
     "output_type": "execute_result"
    }
   ],
   "source": [
    "create_kobold_tracker()"
   ]
  },
  {
   "cell_type": "markdown",
   "metadata": {},
   "source": [
    "## NPC"
   ]
  },
  {
   "cell_type": "code",
   "execution_count": 6,
   "metadata": {},
   "outputs": [],
   "source": [
    "from fight_tracker.bestiary import npc"
   ]
  },
  {
   "cell_type": "code",
   "execution_count": 8,
   "metadata": {},
   "outputs": [
    {
     "name": "stdout",
     "output_type": "stream",
     "text": [
      "/------------------------------------------------------------------------------+\n",
      "| THUG                                                                         |\n",
      "| Medium                                                                       |\n",
      "| ---------------------------------------------------------------------------- |\n",
      "| - \u001b[1mArmor Class\u001b[0m: 11 (leather armor)                                            |\n",
      "| - \u001b[1mHit points\u001b[0m: 30 (5d8 + 10)                                                  |\n",
      "| - \u001b[1mSpeed\u001b[0m: 6.0 sq                                                              |\n",
      "| /----------+-----+-----+-----+-----+-----+-----+                             |\n",
      "| |          | STR | DEX | CON | INT | WIS | CHA |                             |\n",
      "| +----------+-----+-----+-----+-----+-----+-----+                             |\n",
      "| | Modifier | +2  | +0  | +2  | +0  | +0  | +0  |                             |\n",
      "| | Save     | +2  | +0  | +2  | +0  | +0  | +0  |                             |\n",
      "| +----------+-----+-----+-----+-----+-----+-----/                             |\n",
      "| - \u001b[1mProficiency bonus\u001b[0m: 2                                                       |\n",
      "| - \u001b[1mChallenge rating\u001b[0m: 1/2                                                      |\n",
      "| ---------------------------------------------------------------------------- |\n",
      "| - \u001b[1mPack Tactics\u001b[0m: The thug has advantage on an attack roll against a           |\n",
      "| creature if at least one of the his allies is within 5 feet of the creature  |\n",
      "| and the ally isn't incapacitated.                                            |\n",
      "| ----------------------------------------------------------------------Action |\n",
      "| - \u001b[1mMultiattack\u001b[0m: This creature makes 2 attacks; with his mace.                 |\n",
      "| - \u001b[1mMace\u001b[0m: Melee Weapon Attack: +4 to hit, reach 5 ft, 1 target(s). Hit         |\n",
      "| d6 + 2 bludgeoning damage.                                                   |\n",
      "| - \u001b[1mHeavy Crossbow\u001b[0m: Ranged Weapon Attack: +2 to hit, range 100/400 ft,         |\n",
      "| 1 target(s). Hit d10 piercing damage.                                        |\n",
      "+------------------------------------------------------------------------------/\n"
     ]
    },
    {
     "data": {
      "text/plain": []
     },
     "execution_count": 8,
     "metadata": {},
     "output_type": "execute_result"
    }
   ],
   "source": [
    "npc.create_thug_by_size()"
   ]
  },
  {
   "cell_type": "code",
   "execution_count": null,
   "metadata": {},
   "outputs": [],
   "source": []
  }
 ],
 "metadata": {
  "kernelspec": {
   "display_name": ".venv",
   "language": "python",
   "name": "python3"
  },
  "language_info": {
   "codemirror_mode": {
    "name": "ipython",
    "version": 3
   },
   "file_extension": ".py",
   "mimetype": "text/x-python",
   "name": "python",
   "nbconvert_exporter": "python",
   "pygments_lexer": "ipython3",
   "version": "3.12.0"
  }
 },
 "nbformat": 4,
 "nbformat_minor": 2
}
