{
 "cells": [
  {
   "cell_type": "markdown",
   "metadata": {},
   "source": [
    "# Veil of the whispering mist"
   ]
  },
  {
   "cell_type": "code",
   "execution_count": 1,
   "metadata": {},
   "outputs": [
    {
     "name": "stdout",
     "output_type": "stream",
     "text": [
      "Hello! I will be the narrator for this encounter.\n"
     ]
    }
   ],
   "source": [
    "from fight_tracker import (\n",
    "    mechanics, \n",
    "    Game,\n",
    "    Creature,\n",
    "    PlayerCharacter as PC,\n",
    "    override_ip_repr,\n",
    ")\n",
    "from fight_tracker.bestiary import (\n",
    "    create_winged_kobold,\n",
    "    create_kobold,\n",
    "    create_kobold_tracker,\n",
    ")\n",
    "from fight_tracker.bestiary.undead import (\n",
    "    create_zombie,\n",
    "    create_zombie_grappler,\n",
    "    create_edric_steadyhand\n",
    ")\n",
    "from fight_tracker.bestiary.misc_humanoids import (\n",
    "    create_thug, \n",
    "    create_bandit,\n",
    "    create_apprentice_wizard,\n",
    ")\n",
    "from fight_tracker.bestiary.beast import create_stirge\n",
    "\n",
    "override_ip_repr()\n",
    "game = Game.init()"
   ]
  },
  {
   "cell_type": "markdown",
   "metadata": {},
   "source": [
    "## PCs"
   ]
  },
  {
   "cell_type": "code",
   "execution_count": 2,
   "metadata": {},
   "outputs": [],
   "source": [
    "alea = PC.quick(\n",
    "    \"Ju\", \n",
    "    \"Alea\", \n",
    "    armor_class=14, \n",
    "    hp_max=20,\n",
    "    strength=10,\n",
    "    dexterity=16,\n",
    "    constitution=14,\n",
    "    intelligence=8,\n",
    "    wisdom=14,\n",
    "    charisma=12,\n",
    "    saving_throw_proficiencies=(mechanics.Ability.STR, mechanics.Ability.DEX),\n",
    ")\n",
    "cassandra = PC.quick(\n",
    "    \"Mag\", \n",
    "    \"Cassandra\", \n",
    "    armor_class=17, \n",
    "    hp_max=20,\n",
    "    strength=8,\n",
    "    dexterity=16,\n",
    "    constitution=14,\n",
    "    intelligence=10,\n",
    "    wisdom=8,\n",
    "    charisma=16,\n",
    "    saving_throw_proficiencies=(mechanics.Ability.STR, mechanics.Ability.CON),\n",
    ")\n",
    "eliot = PC.quick(\n",
    "    \"JF\", \n",
    "    \"Eliot\", \n",
    "    armor_class=14, \n",
    "    hp_max=15,\n",
    "    strength=8,\n",
    "    dexterity=16,\n",
    "    constitution=12,\n",
    "    intelligence=15,\n",
    "    wisdom=14,\n",
    "    charisma=8,\n",
    "    saving_throw_proficiencies=(mechanics.Ability.DEX, mechanics.Ability.INT),\n",
    ")\n",
    "fizzlebolt = PC.quick(\n",
    "    \"Gg\", \n",
    "    \"Fizzlebolt\", \n",
    "    armor_class=17, \n",
    "    hp_max=19, \n",
    "    speed=25,\n",
    "    strength=8,\n",
    "    dexterity=14,\n",
    "    constitution=16,\n",
    "    intelligence=16,\n",
    "    wisdom=10,\n",
    "    charisma=10,\n",
    "    saving_throw_proficiencies=(mechanics.Ability.CON, mechanics.Ability.INT),\n",
    ")\n",
    "suri = PC.quick(\n",
    "    \"Wendy\", \n",
    "    \"Suri\", \n",
    "    armor_class=15, \n",
    "    hp_max=19,\n",
    "    strength=8,\n",
    "    dexterity=14,\n",
    "    constitution=16,\n",
    "    intelligence=10,\n",
    "    wisdom=16,\n",
    "    charisma=10,\n",
    "    saving_throw_proficiencies=(mechanics.Ability.INT, mechanics.Ability.WIS)\n",
    ")\n"
   ]
  },
  {
   "cell_type": "markdown",
   "metadata": {},
   "source": [
    "## Encounter - Tavern brawl\n",
    "\n",
    "| Encounter   | Description                                                                                                                          |\n",
    "|-------------|--------------------------------------------------------------------------------------------------------------------------------------|\n",
    "| Battlefield | A tavern                                                                                                                             |\n",
    "| Ennemies    | 1 thug (boss), 1 apprentice wizard, 1 (or 2) bandits                                                                                 |\n",
    "| Special     | Technical fight (flip table + cover, bearing balls), wizard will try to flee, boss will take hostage                                 |\n",
    "| Reward      | Each thug has 3 GP, the leader has Tabitha's necklace                                                                                |\n",
    "\n",
    "The mage\n",
    "- flips a table, and shoot from behind\n",
    "- flees, using the metal balls and shield\n",
    "\n",
    "The bandits:\n",
    "- attack\n",
    "\n",
    "The boss:\n",
    "- taunts and attack\n",
    "- might take an hostage"
   ]
  },
  {
   "cell_type": "code",
   "execution_count": 3,
   "metadata": {},
   "outputs": [
    {
     "name": "stdout",
     "output_type": "stream",
     "text": [
      "*Alea* roll a 10 as initiative\n",
      "*Cassandra* roll a 10 as initiative\n",
      "*Eliot* roll a 10 as initiative\n",
      "*Fizzlebolt* roll a 10 as initiative\n",
      "*Suri* roll a 10 as initiative\n",
      "*Thug* roll a 16 (d20 + 0) as initiative\n",
      "*Wizard apprentice* roll a 11 (d20 + 0) as initiative\n",
      "*Bandit* roll a 9 (d20 + 1) as initiative\n",
      "battle begins!\n",
      "start of round 1\n",
      "turn of  *Thug*\n",
      "    next in line is  *Wizard apprentice*\n",
      "/-------+-------+------------------------------+-----------------+----+-----+-----+-----+-----+-----+-----+---------------+------------+\n",
      "| Curr. | Init. | Participant                  | HP              | AC | STR | DEX | CON | INT | WIS | CHA | Concentration | Conditions |\n",
      "+-------+-------+------------------------------+-----------------+----+-----+-----+-----+-----+-----+-----+---------------+------------+\n",
      "| (x)   | 16    | *Thug* (boss)                | 32/32 (100.0 %) | 11 | +2  | +0  | +2  | +0  | +0  | +0  | ( )           |            |\n",
      "| ( )   | 11    | *Wizard apprentice* (Wizard) | 13/13 (100.0 %) | 10 | +0  | +0  | +0  | +2  | +0  | +1  | ( )           |            |\n",
      "| ( )   | 10    | *Alea* (Ju)                  | 20/20 (100.0 %) | 14 | +0  | +3  | +2  | -1  | +2  | +1  | ( )           |            |\n",
      "| ( )   | 10    | *Cassandra* (Mag)            | 20/20 (100.0 %) | 17 | -1  | +3  | +2  | +0  | -1  | +3  | ( )           |            |\n",
      "| ( )   | 10    | *Eliot* (JF)                 | 15/15 (100.0 %) | 14 | -1  | +3  | +1  | +2  | +2  | -1  | ( )           |            |\n",
      "| ( )   | 10    | *Fizzlebolt* (Gg)            | 19/19 (100.0 %) | 17 | -1  | +2  | +3  | +3  | +0  | +0  | ( )           |            |\n",
      "| ( )   | 10    | *Suri* (Wendy)               | 19/19 (100.0 %) | 15 | -1  | +2  | +3  | +0  | +3  | +0  | ( )           |            |\n",
      "| ( )   | 9     | *Bandit* (Bandit 1)          | 11/11 (100.0 %) | 12 | +0  | +1  | +1  | +0  | +0  | +0  | ( )           |            |\n",
      "+-------+-------+------------------------------+-----------------+----+-----+-----+-----+-----+-----+-----+---------------+------------/\n"
     ]
    },
    {
     "data": {
      "text/plain": []
     },
     "execution_count": 3,
     "metadata": {},
     "output_type": "execute_result"
    }
   ],
   "source": [
    "boss = Creature(\"boss\", create_thug())\n",
    "wiz = Creature(\"Wizard\", create_apprentice_wizard())\n",
    "bandit1 = Creature(\"Bandit 1\", create_bandit())\n",
    "bandit2 = Creature(\"Bandit 2\", create_bandit())\n",
    "\n",
    "E = (\n",
    "    game.create_encounter()\n",
    "    .add(alea, 10)\n",
    "    .add(cassandra, 10)\n",
    "    .add(eliot, 10)\n",
    "    .add(fizzlebolt, 10)\n",
    "    .add(suri, 10)\n",
    "    .add(boss)\n",
    "    .add(wiz)\n",
    "    .add(bandit1)\n",
    "    # .add(bandit2)\n",
    "    .start()\n",
    ")\n",
    "E\n"
   ]
  },
  {
   "cell_type": "markdown",
   "metadata": {},
   "source": [
    "## Encounter - Kobold in the mi(d)st\n",
    "\n",
    "The party cannot see beyond 1 square but the kobold can\n",
    "\n",
    "| Encounter   | Description                                                                                                                          |\n",
    "|-------------|--------------------------------------------------------------------------------------------------------------------------------------|\n",
    "| Battlefield | A open forest space in a deep patch of mist                                                                                          |\n",
    "| Ennemies    | 7 Kobols tracker that can sense the party through the mist                                                                           |\n",
    "| Objective   | Defeat ennemies                                                                                                                      |\n",
    "| Special     | The low-visibility mist + A couple of roots (difficult terrain)                                                                      |\n",
    "| Fight end   | If 4 kobols dies, the remaining flee                                                                                                 |\n",
    "| Reward      | 3 10-GP-worth gemstones (2 agates, 1 malachites)                                                                                     |\n"
   ]
  },
  {
   "cell_type": "code",
   "execution_count": 10,
   "metadata": {},
   "outputs": [
    {
     "name": "stdout",
     "output_type": "stream",
     "text": [
      "/------------------------------------------------------------------------------+\n",
      "| KOBOLD TRACKER                                                               |\n",
      "| Small Humanoid (Kobold), lawful evil                                         |\n",
      "| ---------------------------------------------------------------------------- |\n",
      "| - \u001b[1mArmor Class\u001b[0m: 14 (natural armor)                                            |\n",
      "| - \u001b[1mHit points\u001b[0m: 7 (3d6 + -3)                                                   |\n",
      "| - \u001b[1mSpeed\u001b[0m: 6 sq                                                                |\n",
      "| /----------+-----+-----+-----+-----+-----+-----+                             |\n",
      "| |          | STR | DEX | CON | INT | WIS | CHA |                             |\n",
      "| +----------+-----+-----+-----+-----+-----+-----+                             |\n",
      "| | Modifier | -2  | +2  | -1  | +0  | +3  | -1  |                             |\n",
      "| | Save     | -2  | +2  | -1  | +0  | +5  | -1  |                             |\n",
      "| +----------+-----+-----+-----+-----+-----+-----/                             |\n",
      "| - \u001b[1mProficiency bonus\u001b[0m: +2                                                      |\n",
      "| - \u001b[1mSkill\u001b[0m: Animal_handling +5                                                  |\n",
      "| - \u001b[1mSenses\u001b[0m: Darkvision 12 sq / Passive perception 13                           |\n",
      "| - \u001b[1mLanguages\u001b[0m: Common, Draconic                                                |\n",
      "| - \u001b[1mChallenge rating\u001b[0m: 1/2                                                      |\n",
      "| ---------------------------------------------------------------------------- |\n",
      "| - \u001b[1mPack Tactics\u001b[0m: This creature has advantage on an attack roll                |\n",
      "| against an opponent if at least one of the his allies is within 5 feet of    |\n",
      "| the opponent and the ally isn't incapacitated.                               |\n",
      "| - \u001b[1mSunlight Sensitivity\u001b[0m: While in sunlight, this creature has                 |\n",
      "| disadvantage on attack rolls, as well as on Wisdom (Perception) checks that  |\n",
      "| rely on sight.                                                               |\n",
      "| - \u001b[1mKeen Smell\u001b[0m: The kobold tracker has advantage on Wisdom                     |\n",
      "| (Perception) checks that rely on smell.                                      |\n",
      "| - \u001b[1mInfravision\u001b[0m: The kobold tracker can see in both magical and                |\n",
      "| non-magical darkness as if it were bright light up to a distance of 60 feet. |\n",
      "| ----------------------------------------------------------------------Action |\n",
      "| - \u001b[1mDagger\u001b[0m: Ranged Weapon Attack: +4 to hit, range 30/120 ft., one             |\n",
      "| target. Hit: 4 (1d4 + 2) bludgeoning damage.                                 |\n",
      "| - \u001b[1mSling\u001b[0m: Ranged Weapon Attack: +4 to hit, range 30/120 ft., one              |\n",
      "| target. Hit: 4 (1d4 + 2) bludgeoning damage.                                 |\n",
      "| - \u001b[1mTrack\u001b[0m: 1/Day. The kobold tracker can use its action to pinpoint            |\n",
      "| the location of a specific creature it is familiar with, as long as the      |\n",
      "| creature is within 1 mile and has left a scent trail within the last 24      |\n",
      "| hours.                                                                       |\n",
      "+------------------------------------------------------------------------------/\n"
     ]
    },
    {
     "data": {
      "text/plain": []
     },
     "execution_count": 10,
     "metadata": {},
     "output_type": "execute_result"
    }
   ],
   "source": [
    "kt1 = Creature(\"kt1\", create_kobold_tracker())\n",
    "kt2 = Creature(\"kt2\", create_kobold_tracker())\n",
    "kt3 = Creature(\"kt3\", create_kobold_tracker())\n",
    "kt4 = Creature(\"kt4\", create_kobold_tracker())\n",
    "kt5 = Creature(\"kt5\", create_kobold_tracker())\n",
    "kt6 = Creature(\"kt6\", create_kobold_tracker())\n",
    "kt7 = Creature(\"kt7\", create_kobold_tracker())\n",
    "\n",
    "kt1.statblock"
   ]
  },
  {
   "cell_type": "code",
   "execution_count": 12,
   "metadata": {},
   "outputs": [
    {
     "name": "stdout",
     "output_type": "stream",
     "text": [
      "*Alea* roll a 10 as initiative\n",
      "*Cassandra* roll a 10 as initiative\n",
      "*Eliot* roll a 10 as initiative\n",
      "*Fizzlebolt* roll a 10 as initiative\n",
      "*Suri* roll a 10 as initiative\n",
      "*Kobold Tracker* roll a 15 (d20 + 2) as initiative\n",
      "*Kobold Tracker* roll a 4 (d20 + 2) as initiative\n",
      "*Kobold Tracker* roll a 21 (d20 + 2) as initiative\n",
      "*Kobold Tracker* roll a 4 (d20 + 2) as initiative\n",
      "*Kobold Tracker* roll a 13 (d20 + 2) as initiative\n",
      "*Kobold Tracker* roll a 17 (d20 + 2) as initiative\n",
      "*Kobold Tracker* roll a 22 (d20 + 2) as initiative\n",
      "battle begins!\n",
      "start of round 1\n",
      "turn of  *Kobold Tracker*\n",
      "    next in line is  *Kobold Tracker*\n",
      "/-------+-------+------------------------+-----------------+----+-----+-----+-----+-----+-----+-----+---------------+------------+\n",
      "| Curr. | Init. | Participant            | HP              | AC | STR | DEX | CON | INT | WIS | CHA | Concentration | Conditions |\n",
      "+-------+-------+------------------------+-----------------+----+-----+-----+-----+-----+-----+-----+---------------+------------+\n",
      "| (x)   | 22    | *Kobold Tracker* (kt7) | 7/7 (100.0 %)   | 14 | -2  | +2  | -1  | +0  | +5  | -1  | ( )           |            |\n",
      "| ( )   | 21    | *Kobold Tracker* (kt3) | 7/7 (100.0 %)   | 14 | -2  | +2  | -1  | +0  | +5  | -1  | ( )           |            |\n",
      "| ( )   | 17    | *Kobold Tracker* (kt6) | 7/7 (100.0 %)   | 14 | -2  | +2  | -1  | +0  | +5  | -1  | ( )           |            |\n",
      "| ( )   | 15    | *Kobold Tracker* (kt1) | 7/7 (100.0 %)   | 14 | -2  | +2  | -1  | +0  | +5  | -1  | ( )           |            |\n",
      "| ( )   | 13    | *Kobold Tracker* (kt5) | 7/7 (100.0 %)   | 14 | -2  | +2  | -1  | +0  | +5  | -1  | ( )           |            |\n",
      "| ( )   | 10    | *Alea* (Ju)            | 20/20 (100.0 %) | 14 | +0  | +3  | +2  | -1  | +2  | +1  | ( )           |            |\n",
      "| ( )   | 10    | *Cassandra* (Mag)      | 20/20 (100.0 %) | 17 | -1  | +3  | +2  | +0  | -1  | +3  | ( )           |            |\n",
      "| ( )   | 10    | *Eliot* (JF)           | 15/15 (100.0 %) | 14 | -1  | +3  | +1  | +2  | +2  | -1  | ( )           |            |\n",
      "| ( )   | 10    | *Fizzlebolt* (Gg)      | 19/19 (100.0 %) | 17 | -1  | +2  | +3  | +3  | +0  | +0  | ( )           |            |\n",
      "| ( )   | 10    | *Suri* (Wendy)         | 19/19 (100.0 %) | 15 | -1  | +2  | +3  | +0  | +3  | +0  | ( )           |            |\n",
      "| ( )   | 4     | *Kobold Tracker* (kt2) | 7/7 (100.0 %)   | 14 | -2  | +2  | -1  | +0  | +5  | -1  | ( )           |            |\n",
      "| ( )   | 4     | *Kobold Tracker* (kt4) | 7/7 (100.0 %)   | 14 | -2  | +2  | -1  | +0  | +5  | -1  | ( )           |            |\n",
      "+-------+-------+------------------------+-----------------+----+-----+-----+-----+-----+-----+-----+---------------+------------/\n"
     ]
    },
    {
     "data": {
      "text/plain": []
     },
     "execution_count": 12,
     "metadata": {},
     "output_type": "execute_result"
    }
   ],
   "source": [
    "E = (\n",
    "    game.create_encounter()\n",
    "    .add(alea, 10)\n",
    "    .add(cassandra, 10)\n",
    "    .add(eliot, 10)\n",
    "    .add(fizzlebolt, 10)\n",
    "    .add(suri, 10)\n",
    "    .add(kt1)\n",
    "    .add(kt2)\n",
    "    .add(kt3)\n",
    "    .add(kt4)\n",
    "    .add(kt5)\n",
    "    .add(kt6)\n",
    "    .add(kt7) \n",
    "    .start()\n",
    ")\n",
    "E"
   ]
  },
  {
   "cell_type": "code",
   "execution_count": null,
   "metadata": {},
   "outputs": [],
   "source": []
  },
  {
   "cell_type": "markdown",
   "metadata": {},
   "source": [
    "## Encounter - Lure of the magical blade\n",
    "\n",
    "The party sees a shortsword planted in the ground. As they approach, they get stuck in the muck. *Striges* drop on them and *Kobolds* attack at a distance. The striges counts for the advantage of the kobold\n",
    "\n",
    "\n",
    "| Encounter   | Description                                                                                                                          |\n",
    "|-------------|--------------------------------------------------------------------------------------------------------------------------------------|\n",
    "| Battlefield | Forest encounter among muddy terrain                                                                                                 |\n",
    "| Ennemies    | 2 Kobolds and 3 stringes                                                                                                             |\n",
    "| Objective   | Get out of this trap                                                                                                                 |\n",
    "| Special     | The mud: it is difficult terrain and the PC must succeed a Strength (Athletic) check (DC 12) to get out of the mud and start moving  |\n",
    "| Reward      | A +1 magical sword                                                                                                                   |"
   ]
  },
  {
   "cell_type": "code",
   "execution_count": 15,
   "metadata": {},
   "outputs": [
    {
     "name": "stdout",
     "output_type": "stream",
     "text": [
      "*Alea* roll a 10 as initiative\n",
      "*Cassandra* roll a 10 as initiative\n",
      "*Eliot* roll a 10 as initiative\n",
      "*Fizzlebolt* roll a 10 as initiative\n",
      "*Suri* roll a 10 as initiative\n",
      "*Kobold* roll a 3 (d20 + 2) as initiative\n",
      "*Kobold* roll a 7 (d20 + 2) as initiative\n",
      "*Stirge* roll a 4 (d20 + 3) as initiative\n",
      "*Stirge* roll a 16 (d20 + 3) as initiative\n",
      "*Stirge* roll a 15 (d20 + 3) as initiative\n",
      "battle begins!\n",
      "start of round 1\n",
      "turn of  *Stirge*\n",
      "    next in line is  *Stirge*\n",
      "/------------------------------------------------------------------------------+\n",
      "| STIRGE                                                                       |\n",
      "| Tiny Beast                                                                   |\n",
      "| ---------------------------------------------------------------------------- |\n",
      "| - \u001b[1mArmor Class\u001b[0m: 14 (natural armor)                                            |\n",
      "| - \u001b[1mHit points\u001b[0m: 2 (d4 + 0)                                                     |\n",
      "| - \u001b[1mSpeed\u001b[0m: 2 sq, fly 8 sq                                                      |\n",
      "| /----------+-----+-----+-----+-----+-----+-----+                             |\n",
      "| |          | STR | DEX | CON | INT | WIS | CHA |                             |\n",
      "| +----------+-----+-----+-----+-----+-----+-----+                             |\n",
      "| | Modifier | -3  | +3  | +0  | -4  | -1  | -2  |                             |\n",
      "| | Save     | -3  | +3  | +0  | -4  | -1  | -2  |                             |\n",
      "| +----------+-----+-----+-----+-----+-----+-----/                             |\n",
      "| - \u001b[1mProficiency bonus\u001b[0m: +2                                                      |\n",
      "| - \u001b[1mSenses\u001b[0m: Darkvision 12 sq / Passive perception 9                            |\n",
      "| - \u001b[1mChallenge rating\u001b[0m: 1/8                                                      |\n",
      "| ----------------------------------------------------------------------Action |\n",
      "| - \u001b[1mBlood Drain\u001b[0m: Melee Weapon Attack: +5 to hit, reach 5 ft., one              |\n",
      "| creature. Hit: 5 (1d4 + 3) piercing damage, and the stirge attaches to the   |\n",
      "| target. While attached, the stirge doesn't attack. Instead, at the start of  |\n",
      "| each of the stirge's turns, the target loses 5 (1d4 + 3) hit points due to   |\n",
      "| blood loss.                                                                  |\n",
      "| - \u001b[1mDetach\u001b[0m: The stirge can detach itself by spending 5 feet of its             |\n",
      "| movement. It does so after it drains 10 hit points of blood from the target  |\n",
      "| or the target dies. A creature, including the target, can use its action to  |\n",
      "| detach the stirge.                                                           |\n",
      "+------------------------------------------------------------------------------/\n"
     ]
    },
    {
     "data": {
      "text/plain": []
     },
     "execution_count": 15,
     "metadata": {},
     "output_type": "execute_result"
    }
   ],
   "source": [
    "stirge1 = Creature(\"Stirge1\", create_stirge())\n",
    "stirge2 = Creature(\"Stirge2\", create_stirge())\n",
    "stirge3 = Creature(\"Stirge3\", create_stirge())\n",
    "\n",
    "kb1 = Creature(\"Kb1\", create_kobold())\n",
    "kb2 = Creature(\"Kb2\", create_kobold())\n",
    "\n",
    "E = (\n",
    "    game.create_encounter()\n",
    "    .add(alea, 10)\n",
    "    .add(cassandra, 10)\n",
    "    .add(eliot, 10)\n",
    "    .add(fizzlebolt, 10)\n",
    "    .add(suri, 10)\n",
    "    .add(kb1)\n",
    "    .add(kb2)\n",
    "    .add(stirge1)\n",
    "    .add(stirge2)\n",
    "    .add(stirge3)\n",
    "    .start()\n",
    ")\n",
    "stirge1.statblock\n"
   ]
  },
  {
   "cell_type": "code",
   "execution_count": 16,
   "metadata": {},
   "outputs": [
    {
     "name": "stdout",
     "output_type": "stream",
     "text": [
      "/-------+-------+--------------------+-----------------+----+-----+-----+-----+-----+-----+-----+---------------+------------+\n",
      "| Curr. | Init. | Participant        | HP              | AC | STR | DEX | CON | INT | WIS | CHA | Concentration | Conditions |\n",
      "+-------+-------+--------------------+-----------------+----+-----+-----+-----+-----+-----+-----+---------------+------------+\n",
      "| (x)   | 16    | *Stirge* (Stirge2) | 2/2 (100.0 %)   | 14 | -3  | +3  | +0  | -4  | -1  | -2  | ( )           |            |\n",
      "| ( )   | 15    | *Stirge* (Stirge3) | 2/2 (100.0 %)   | 14 | -3  | +3  | +0  | -4  | -1  | -2  | ( )           |            |\n",
      "| ( )   | 10    | *Alea* (Ju)        | 20/20 (100.0 %) | 14 | +0  | +3  | +2  | -1  | +2  | +1  | ( )           |            |\n",
      "| ( )   | 10    | *Cassandra* (Mag)  | 20/20 (100.0 %) | 17 | -1  | +3  | +2  | +0  | -1  | +3  | ( )           |            |\n",
      "| ( )   | 10    | *Eliot* (JF)       | 15/15 (100.0 %) | 14 | -1  | +3  | +1  | +2  | +2  | -1  | ( )           |            |\n",
      "| ( )   | 10    | *Fizzlebolt* (Gg)  | 19/19 (100.0 %) | 17 | -1  | +2  | +3  | +3  | +0  | +0  | ( )           |            |\n",
      "| ( )   | 10    | *Suri* (Wendy)     | 19/19 (100.0 %) | 15 | -1  | +2  | +3  | +0  | +3  | +0  | ( )           |            |\n",
      "| ( )   | 7     | *Kobold* (Kb2)     | 5/5 (100.0 %)   | 12 | -2  | +2  | -1  | -1  | -2  | -1  | ( )           |            |\n",
      "| ( )   | 4     | *Stirge* (Stirge1) | 2/2 (100.0 %)   | 14 | -3  | +3  | +0  | -4  | -1  | -2  | ( )           |            |\n",
      "| ( )   | 3     | *Kobold* (Kb1)     | 5/5 (100.0 %)   | 12 | -2  | +2  | -1  | -1  | -2  | -1  | ( )           |            |\n",
      "+-------+-------+--------------------+-----------------+----+-----+-----+-----+-----+-----+-----+---------------+------------/\n"
     ]
    },
    {
     "data": {
      "text/plain": []
     },
     "execution_count": 16,
     "metadata": {},
     "output_type": "execute_result"
    }
   ],
   "source": [
    "E"
   ]
  },
  {
   "cell_type": "code",
   "execution_count": null,
   "metadata": {},
   "outputs": [],
   "source": []
  },
  {
   "cell_type": "markdown",
   "metadata": {},
   "source": [
    "Remember to give the magical blade to the party"
   ]
  },
  {
   "cell_type": "markdown",
   "metadata": {},
   "source": [
    "## Encounter - Spider web"
   ]
  },
  {
   "cell_type": "markdown",
   "metadata": {},
   "source": [
    "## Encounter - Boss zombie\n",
    "\n",
    "> The hold reeks of death. Several bodies litter the floor. Near the front a dwarf-size body, wearing and elaborate hat, rest, seated. If not for the torn out flesh and buzzing flies, one could have assumed he was sleeping. As the party nears, the dwarf's head jerk upward, a purple light igniting under empty lids. He stands up and, through a cavernous voice, has the bodies raising as well. A purple fire starts behind the party, barring any hope of escaping. Roll initiative!\n",
    "\n",
    "\n",
    "\n",
    "| Encounter   | Description                                                                                                                          |\n",
    "|-------------|--------------------------------------------------------------------------------------------------------------------------------------|\n",
    "| Battlefield | The cargo room of a ship                                                                                                             |\n",
    "| Ennemies    | The captain (boss) + 3 zombie grapplers                                                                                              |\n",
    "| Special     | Springhammer + Necrotic fire (dealing 5 points of necrotic damage, zombies are resistant and drag the PC in it)                      |\n",
    "| Reward      | Springhammer (Mechanical hammer that can repulse: recharge 5-6, 2 charges) + captain deciphering belt                                |\n"
   ]
  },
  {
   "cell_type": "code",
   "execution_count": 13,
   "metadata": {},
   "outputs": [
    {
     "name": "stdout",
     "output_type": "stream",
     "text": [
      "*Alea* roll a 10 as initiative\n",
      "*Cassandra* roll a 10 as initiative\n",
      "*Eliot* roll a 10 as initiative\n",
      "*Fizzlebolt* roll a 10 as initiative\n",
      "*Suri* roll a 10 as initiative\n",
      "*Edric Steadyhand* roll a 3 (d20 + -2) as initiative\n",
      "*Zombie Grappler* roll a 11 (d20 + -2) as initiative\n",
      "*Zombie Grappler* roll a 15 (d20 + -2) as initiative\n",
      "*Zombie Grappler* roll a 15 (d20 + -2) as initiative\n",
      "battle begins!\n",
      "start of round 1\n",
      "turn of  *Zombie Grappler*\n",
      "    next in line is  *Zombie Grappler*\n",
      "/------------------------------------------------------------------------------+\n",
      "| EDRIC STEADYHAND                                                             |\n",
      "| Medium Undead (Dwarf), neutral evil                                          |\n",
      "| ---------------------------------------------------------------------------- |\n",
      "| - \u001b[1mArmor Class\u001b[0m: 13 (Necrotic halo)                                            |\n",
      "| - \u001b[1mHit points\u001b[0m: 30 (4d8 + 12)                                                  |\n",
      "| - \u001b[1mSpeed\u001b[0m: 6 sq                                                                |\n",
      "| /----------+-----+-----+-----+-----+-----+-----+                             |\n",
      "| |          | STR | DEX | CON | INT | WIS | CHA |                             |\n",
      "| +----------+-----+-----+-----+-----+-----+-----+                             |\n",
      "| | Modifier | +1  | -2  | +3  | -4  | -2  | -3  |                             |\n",
      "| | Save     | +1  | -2  | +3  | -4  | +0  | -3  |                             |\n",
      "| +----------+-----+-----+-----+-----+-----+-----/                             |\n",
      "| - \u001b[1mProficiency bonus\u001b[0m: +2                                                      |\n",
      "| - \u001b[1mSenses\u001b[0m: Darkvision 12 sq / Passive perception 8                            |\n",
      "| - \u001b[1mLanguages\u001b[0m: Understand language it knew in life (cannot speak),             |\n",
      "| Understand language it knew in life (cannot speak)                           |\n",
      "| - \u001b[1mChallenge rating\u001b[0m: 1/2                                                      |\n",
      "| ---------------------------------------------------------------------------- |\n",
      "| - \u001b[1mNecrotic release\u001b[0m: When Edric Steadyhand dies, the Necrotic Echo            |\n",
      "| which animates it jumps to the closest creature. The latter takes 12 (4d6)   |\n",
      "| points of necrotic damage. If it is brought down to zero HP, it awakens a    |\n",
      "| few minutes later with 1 HP, being the new host  of the Necrotic Echo        |\n",
      "| ----------------------------------------------------------------------Action |\n",
      "| - \u001b[1mSpring Hammer\u001b[0m: Melee Weapon Attack: +3 to hit, reach 1 sq , 1              |\n",
      "| target(s). Hit 5 (d8 + 1) bludgeoning damage.  On a successful hit, the      |\n",
      "| spring activate, throwing the target 5 feet away on a failed dc 15 strength  |\n",
      "| (athletics) (charges: 2)                                                     |\n",
      "| - \u001b[1mNecrotic Influence\u001b[0m: Reaction: When a nearby Zombie fails its               |\n",
      "| `Undead Fortitude` save, it can try again once.                              |\n",
      "+------------------------------------------------------------------------------/\n"
     ]
    },
    {
     "data": {
      "text/plain": []
     },
     "execution_count": 13,
     "metadata": {},
     "output_type": "execute_result"
    }
   ],
   "source": [
    "edric = Creature(\"boss\", create_edric_steadyhand())\n",
    "zombie1 = Creature(\"zg1\", create_zombie_grappler())\n",
    "zombie2 = Creature(\"zg2\", create_zombie_grappler())\n",
    "zombie3 = Creature(\"zg3\", create_zombie_grappler())\n",
    "\n",
    "E = (\n",
    "    game.create_encounter()\n",
    "    .add(alea, 10)\n",
    "    .add(cassandra, 10)\n",
    "    .add(eliot, 10)\n",
    "    .add(fizzlebolt, 10)\n",
    "    .add(suri, 10)\n",
    "    .add(edric)\n",
    "    .add(zombie1)\n",
    "    .add(zombie1)\n",
    "    .add(zombie3)\n",
    "    .start()\n",
    ")\n",
    "edric.statblock\n"
   ]
  },
  {
   "cell_type": "code",
   "execution_count": 14,
   "metadata": {},
   "outputs": [
    {
     "name": "stdout",
     "output_type": "stream",
     "text": [
      "/-------+-------+---------------------------+-----------------+----+-----+-----+-----+-----+-----+-----+---------------+------------+\n",
      "| Curr. | Init. | Participant               | HP              | AC | STR | DEX | CON | INT | WIS | CHA | Concentration | Conditions |\n",
      "+-------+-------+---------------------------+-----------------+----+-----+-----+-----+-----+-----+-----+---------------+------------+\n",
      "| (x)   | 15    | *Zombie Grappler* (zg1)   | 22/22 (100.0 %) | 8  | +3  | -2  | +3  | -4  | +0  | -3  | ( )           |            |\n",
      "| ( )   | 15    | *Zombie Grappler* (zg3)   | 22/22 (100.0 %) | 8  | +3  | -2  | +3  | -4  | +0  | -3  | ( )           |            |\n",
      "| ( )   | 11    | *Zombie Grappler* (zg1)   | 22/22 (100.0 %) | 8  | +3  | -2  | +3  | -4  | +0  | -3  | ( )           |            |\n",
      "| ( )   | 10    | *Alea* (Ju)               | 20/20 (100.0 %) | 14 | +0  | +3  | +2  | -1  | +2  | +1  | ( )           |            |\n",
      "| ( )   | 10    | *Cassandra* (Mag)         | 20/20 (100.0 %) | 17 | -1  | +3  | +2  | +0  | -1  | +3  | ( )           |            |\n",
      "| ( )   | 10    | *Eliot* (JF)              | 15/15 (100.0 %) | 14 | -1  | +3  | +1  | +2  | +2  | -1  | ( )           |            |\n",
      "| ( )   | 10    | *Fizzlebolt* (Gg)         | 19/19 (100.0 %) | 17 | -1  | +2  | +3  | +3  | +0  | +0  | ( )           |            |\n",
      "| ( )   | 10    | *Suri* (Wendy)            | 19/19 (100.0 %) | 15 | -1  | +2  | +3  | +0  | +3  | +0  | ( )           |            |\n",
      "| ( )   | 3     | *Edric Steadyhand* (boss) | 30/30 (100.0 %) | 13 | +1  | -2  | +3  | -4  | +0  | -3  | ( )           |            |\n",
      "+-------+-------+---------------------------+-----------------+----+-----+-----+-----+-----+-----+-----+---------------+------------/\n"
     ]
    },
    {
     "data": {
      "text/plain": []
     },
     "execution_count": 14,
     "metadata": {},
     "output_type": "execute_result"
    }
   ],
   "source": [
    "E"
   ]
  },
  {
   "cell_type": "code",
   "execution_count": null,
   "metadata": {},
   "outputs": [],
   "source": []
  },
  {
   "cell_type": "markdown",
   "metadata": {},
   "source": [
    "Remember the echo attack and the loot"
   ]
  },
  {
   "cell_type": "markdown",
   "metadata": {},
   "source": [
    "## Encounter 6 - Hoist the colors"
   ]
  },
  {
   "cell_type": "markdown",
   "metadata": {},
   "source": []
  }
 ],
 "metadata": {
  "kernelspec": {
   "display_name": ".venv",
   "language": "python",
   "name": "python3"
  },
  "language_info": {
   "codemirror_mode": {
    "name": "ipython",
    "version": 3
   },
   "file_extension": ".py",
   "mimetype": "text/x-python",
   "name": "python",
   "nbconvert_exporter": "python",
   "pygments_lexer": "ipython3",
   "version": "3.12.0"
  }
 },
 "nbformat": 4,
 "nbformat_minor": 2
}
